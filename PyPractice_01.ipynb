{
  "nbformat": 4,
  "nbformat_minor": 0,
  "metadata": {
    "colab": {
      "provenance": [],
      "authorship_tag": "ABX9TyP3dtv72jAYn48cI+8VHDvW",
      "include_colab_link": true
    },
    "kernelspec": {
      "name": "python3",
      "display_name": "Python 3"
    },
    "language_info": {
      "name": "python"
    }
  },
  "cells": [
    {
      "cell_type": "markdown",
      "metadata": {
        "id": "view-in-github",
        "colab_type": "text"
      },
      "source": [
        "<a href=\"https://colab.research.google.com/github/hollowmatt/PyColab/blob/main/PyPractice_01.ipynb\" target=\"_parent\"><img src=\"https://colab.research.google.com/assets/colab-badge.svg\" alt=\"Open In Colab\"/></a>"
      ]
    },
    {
      "cell_type": "code",
      "execution_count": 6,
      "metadata": {
        "colab": {
          "base_uri": "https://localhost:8080/"
        },
        "id": "oiPAnM-0Z7Y_",
        "outputId": "4c90fa55-f221-4f15-91f1-ba4c7045a8e3"
      },
      "outputs": [
        {
          "output_type": "stream",
          "name": "stdout",
          "text": [
            "This is a line of text.\n",
            "\n",
            "This is another line of text.\n",
            "\n",
            "This is the last line of text.\n",
            "\n",
            "This is a line of text.\n",
            "\n",
            "This is another line of text.\n",
            "\n",
            "This is the last line of text.\n",
            "\n"
          ]
        }
      ],
      "source": [
        "f = open(\"myfile1.txt\", \"w\")\n",
        "f.write(\"This is a line of text.\\n\")\n",
        "f.write(\"This is another line of text.\\n\")\n",
        "f.write(\"This is the last line of text.\\n\")\n",
        "f.close()\n",
        "\n",
        "f = open(\"myfile1.txt\", \"r\")\n",
        "for line in f:\n",
        "  print(line)\n",
        "f.close()\n",
        "\n",
        "f = open(\"myfile1.txt\", \"r\")\n",
        "for line in f.readlines():\n",
        "  print(line)\n",
        "f.close()"
      ]
    },
    {
      "cell_type": "code",
      "source": [
        "f = open(\"myfile1.txt\", \"r\")\n",
        "words = f.read().split()\n",
        "print(f\"There are {len(words)} words in the file.\")\n",
        "f.close()\n",
        "wordlist = {}\n",
        "for word in words:\n",
        "  if word in wordlist:\n",
        "    wordlist[word] += 1\n",
        "  else:\n",
        "    wordlist[word] = 1\n",
        "print(f\"There are {len(wordlist)} unique words\")\n",
        "print(wordlist)\n",
        "maxWord = sorted(wordlist.items(), key=lambda item: item[1], reverse=True)\n",
        "print(f\"The most common word is: {maxWord[0][0]}, appearing {maxWord[0][1]} times\")\n",
        "\n",
        "\n"
      ],
      "metadata": {
        "colab": {
          "base_uri": "https://localhost:8080/"
        },
        "id": "UPOYkWD8bYMS",
        "outputId": "12b020d4-3108-4ec8-efcd-8f388a99d4d2"
      },
      "execution_count": 20,
      "outputs": [
        {
          "output_type": "stream",
          "name": "stdout",
          "text": [
            "There are 19 words in the file.\n",
            "There are 9 unique words\n",
            "{'This': 3, 'is': 3, 'a': 1, 'line': 3, 'of': 3, 'text.': 3, 'another': 1, 'the': 1, 'last': 1}\n",
            "The most common word is: This, appearing 3 times\n"
          ]
        }
      ]
    }
  ]
}