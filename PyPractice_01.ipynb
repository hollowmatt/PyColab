{
  "nbformat": 4,
  "nbformat_minor": 0,
  "metadata": {
    "colab": {
      "provenance": [],
      "authorship_tag": "ABX9TyNou+120dLxKSDHZxYFJ/fd",
      "include_colab_link": true
    },
    "kernelspec": {
      "name": "python3",
      "display_name": "Python 3"
    },
    "language_info": {
      "name": "python"
    }
  },
  "cells": [
    {
      "cell_type": "markdown",
      "metadata": {
        "id": "view-in-github",
        "colab_type": "text"
      },
      "source": [
        "<a href=\"https://colab.research.google.com/github/hollowmatt/PyColab/blob/main/PyPractice_01.ipynb\" target=\"_parent\"><img src=\"https://colab.research.google.com/assets/colab-badge.svg\" alt=\"Open In Colab\"/></a>"
      ]
    },
    {
      "cell_type": "code",
      "execution_count": 6,
      "metadata": {
        "colab": {
          "base_uri": "https://localhost:8080/"
        },
        "id": "oiPAnM-0Z7Y_",
        "outputId": "4c90fa55-f221-4f15-91f1-ba4c7045a8e3"
      },
      "outputs": [
        {
          "output_type": "stream",
          "name": "stdout",
          "text": [
            "This is a line of text.\n",
            "\n",
            "This is another line of text.\n",
            "\n",
            "This is the last line of text.\n",
            "\n",
            "This is a line of text.\n",
            "\n",
            "This is another line of text.\n",
            "\n",
            "This is the last line of text.\n",
            "\n"
          ]
        }
      ],
      "source": [
        "f = open(\"myfile1.txt\", \"w\")\n",
        "f.write(\"This is a line of text.\\n\")\n",
        "f.write(\"This is another line of text.\\n\")\n",
        "f.write(\"This is the last line of text.\\n\")\n",
        "f.close()\n",
        "\n",
        "f = open(\"myfile1.txt\", \"r\")\n",
        "for line in f:\n",
        "  print(line)\n",
        "f.close()\n",
        "\n",
        "f = open(\"myfile1.txt\", \"r\")\n",
        "for line in f.readlines():\n",
        "  print(line)\n",
        "f.close()"
      ]
    },
    {
      "cell_type": "code",
      "source": [
        "import string\n",
        "f = open(\"myfile1.txt\", \"r\")\n",
        "words = []\n",
        "punct = str.maketrans(\"\", \"\", string.punctuation)\n",
        "\n",
        "for line in f:\n",
        "  for word in line.split():\n",
        "    words.append(word.lower().translate(punct))\n",
        "print(f\"There are {len(words)} words in the file.\")\n",
        "print(words)\n",
        "f.close()\n",
        "\n",
        "wordlist = {}\n",
        "for word in words:\n",
        "  if word in wordlist:\n",
        "    wordlist[word] += 1\n",
        "  else:\n",
        "    wordlist[word] = 1\n",
        "print(f\"There are {len(wordlist)} unique words\")\n",
        "print(wordlist)\n",
        "maxWord = sorted(wordlist.items(), key=lambda item: item[1], reverse=True)\n",
        "print(f\"The most common word is: {maxWord[0][0]}, appearing {maxWord[0][1]} times\")\n",
        "\n",
        "unique = set(words)\n",
        "print(unique)\n",
        "print(sorted(unique))\n"
      ],
      "metadata": {
        "colab": {
          "base_uri": "https://localhost:8080/"
        },
        "id": "UPOYkWD8bYMS",
        "outputId": "1589a454-c604-4199-ffeb-606ee11c4dcb"
      },
      "execution_count": 38,
      "outputs": [
        {
          "output_type": "stream",
          "name": "stdout",
          "text": [
            "There are 19 words in the file.\n",
            "['this', 'is', 'a', 'line', 'of', 'text', 'this', 'is', 'another', 'line', 'of', 'text', 'this', 'is', 'the', 'last', 'line', 'of', 'text']\n",
            "There are 9 unique words\n",
            "{'this': 3, 'is': 3, 'a': 1, 'line': 3, 'of': 3, 'text': 3, 'another': 1, 'the': 1, 'last': 1}\n",
            "The most common word is: this, appearing 3 times\n",
            "{'of', 'the', 'another', 'text', 'line', 'last', 'is', 'this', 'a'}\n",
            "['a', 'another', 'is', 'last', 'line', 'of', 'text', 'the', 'this']\n"
          ]
        }
      ]
    }
  ]
}