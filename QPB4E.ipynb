{
  "nbformat": 4,
  "nbformat_minor": 0,
  "metadata": {
    "colab": {
      "provenance": [],
      "toc_visible": true,
      "authorship_tag": "ABX9TyOWjTKtIGmtHadR3G1kyje8",
      "include_colab_link": true
    },
    "kernelspec": {
      "name": "python3",
      "display_name": "Python 3"
    },
    "language_info": {
      "name": "python"
    }
  },
  "cells": [
    {
      "cell_type": "markdown",
      "metadata": {
        "id": "view-in-github",
        "colab_type": "text"
      },
      "source": [
        "<a href=\"https://colab.research.google.com/github/hollowmatt/PyColab/blob/main/QPB4E.ipynb\" target=\"_parent\"><img src=\"https://colab.research.google.com/assets/colab-badge.svg\" alt=\"Open In Colab\"/></a>"
      ]
    },
    {
      "cell_type": "markdown",
      "source": [
        "# About this Colab\n",
        "This is from the Quick Python Book from Manning Press [QPB4E](https://livebook.manning.com/book/the-quick-python-book-fourth-edition).\n",
        "\n",
        "The GitHub repository for the book is at [GitHub/qpb4e](https://github.com/nceder/qpb4e)"
      ],
      "metadata": {
        "id": "Rv-y53MZBCVh"
      }
    },
    {
      "cell_type": "markdown",
      "source": [
        "# Chapter 2"
      ],
      "metadata": {
        "id": "otiZ-m9dCodj"
      }
    },
    {
      "cell_type": "code",
      "source": [
        "print(\"hello world!\")"
      ],
      "metadata": {
        "colab": {
          "base_uri": "https://localhost:8080/"
        },
        "id": "NAnDum0BCpDC",
        "outputId": "03e220ec-a307-4a52-ed8c-c3652f9fe95f"
      },
      "execution_count": null,
      "outputs": [
        {
          "output_type": "stream",
          "name": "stdout",
          "text": [
            "hello world!\n"
          ]
        }
      ]
    },
    {
      "cell_type": "code",
      "source": [
        "# Setup files needed\n",
        "!wget https://raw.githubusercontent.com/nceder/qpb4e/main/code/Chapter%2003/shape.py  &> null  && echo Downloaded\n",
        "!wget https://raw.githubusercontent.com/nceder/qpb4e/main/code/Chapter%2003/wo.py &> null  && echo Downloaded\n",
        "\n",
        "!touch empty_file\n",
        "! echo \"This is myfile1.txt\" > myfile1.txt\n",
        "! echo \"This is myfile2.txt\" > myfile2.txt"
      ],
      "metadata": {
        "colab": {
          "base_uri": "https://localhost:8080/"
        },
        "id": "205CFSMFJszm",
        "outputId": "ca7be2a1-f606-444c-b50b-7b3088d7691d"
      },
      "execution_count": null,
      "outputs": [
        {
          "output_type": "stream",
          "name": "stdout",
          "text": [
            "Downloaded\n",
            "Downloaded\n"
          ]
        }
      ]
    },
    {
      "cell_type": "markdown",
      "source": [
        "# Chapter 3\n",
        "Quick Python overview"
      ],
      "metadata": {
        "id": "jhpZZMmP7-4k"
      }
    },
    {
      "cell_type": "markdown",
      "source": [
        "## 3.2.7 File objects"
      ],
      "metadata": {
        "id": "ezYl2Jnp8RPs"
      }
    },
    {
      "cell_type": "code",
      "source": [
        "#Open a file for writing\n",
        "f = open(\"myfile1.txt\", \"w\")\n",
        "f.write(\"First line in the new file\\n\")\n",
        "f.write(\"Now add a second line\\n\")\n",
        "f.close()\n",
        "\n",
        "#Now open file and read it\n",
        "f = open(\"myfile\", \"r\")\n",
        "for i in f.readlines():\n",
        "  print(i)\n",
        "f.close()\n",
        "\n",
        "#Directory and stuff\n",
        "import os\n",
        "dir = os.getcwd()\n",
        "print(dir)\n",
        "\n",
        "file = os.path.join(dir, \"myfile\")\n",
        "print(file)\n",
        "\n",
        "f = open(file, \"r\")\n",
        "print(f.readline())\n",
        "f.close()\n"
      ],
      "metadata": {
        "colab": {
          "base_uri": "https://localhost:8080/"
        },
        "id": "N63bjMqI_I2C",
        "outputId": "27cfb841-aeff-46e7-a5b6-0339dbffe42e"
      },
      "execution_count": null,
      "outputs": [
        {
          "output_type": "stream",
          "name": "stdout",
          "text": [
            "First line in the new file\n",
            "\n",
            "Now add a second line\n",
            "\n",
            "/content\n",
            "/content/myfile\n",
            "First line in the new file\n",
            "\n"
          ]
        }
      ]
    },
    {
      "cell_type": "markdown",
      "source": [
        "## 3.4 Control Structures"
      ],
      "metadata": {
        "id": "8qrUJMksBWao"
      }
    },
    {
      "cell_type": "code",
      "source": [
        "# if-elif-else\n",
        "x = 5\n",
        "if x < 5:\n",
        "  y = -1\n",
        "  z = 5\n",
        "elif x > 5:\n",
        "  y = 1\n",
        "  z = 11\n",
        "else:\n",
        "  y = 0\n",
        "  z = 10\n",
        "print(x, y, z)"
      ],
      "metadata": {
        "colab": {
          "base_uri": "https://localhost:8080/"
        },
        "id": "zYXHCxyuBfnA",
        "outputId": "6c945978-3a26-4c4e-ba42-f468bb2f940f"
      },
      "execution_count": null,
      "outputs": [
        {
          "output_type": "stream",
          "name": "stdout",
          "text": [
            "5 0 10\n"
          ]
        }
      ]
    },
    {
      "cell_type": "markdown",
      "source": [
        "The 'match' statement in Python is similar to the switch statement in Java"
      ],
      "metadata": {
        "id": "P03KdTxXCT68"
      }
    },
    {
      "cell_type": "code",
      "source": [
        "#Match statement\n",
        "point = (5, 7)\n",
        "\n",
        "match point:\n",
        "  case(0,0):\n",
        "    print('origin')\n",
        "  case(0,y):\n",
        "    print(f\"Y={y}\")\n",
        "  case(x,0):\n",
        "    print(f\"X={x}\")\n",
        "  case(x,y):\n",
        "    print(f\"X={x}, Y={y}\")\n",
        "  case _:\n",
        "    raise ValueError(\"Not a point\")\n"
      ],
      "metadata": {
        "colab": {
          "base_uri": "https://localhost:8080/"
        },
        "id": "X6JUczYXCDLO",
        "outputId": "1e13134b-1145-4255-f96a-f16012015dec"
      },
      "execution_count": null,
      "outputs": [
        {
          "output_type": "stream",
          "name": "stdout",
          "text": [
            "X=5, Y=7\n"
          ]
        }
      ]
    },
    {
      "cell_type": "code",
      "source": [
        "#while loop\n",
        "u, v, x, y = 0, 0, 100, 30\n",
        "\n",
        "while x > y:\n",
        "  u = u + y\n",
        "  x = x - y\n",
        "  if x < y + 2:\n",
        "    v = v + x\n",
        "    x = 0\n",
        "  else:\n",
        "    v = v + y + 2\n",
        "    x = x - y - 2\n",
        "  print(f\"{u=} {v=}\")\n",
        "print(u, v)"
      ],
      "metadata": {
        "colab": {
          "base_uri": "https://localhost:8080/"
        },
        "id": "impdQ32ND4vk",
        "outputId": "afd26fe9-2470-4d7b-c5a4-bf53e160045d"
      },
      "execution_count": null,
      "outputs": [
        {
          "output_type": "stream",
          "name": "stdout",
          "text": [
            "u=30 v=32\n",
            "u=60 v=40\n",
            "60 40\n"
          ]
        }
      ]
    },
    {
      "cell_type": "code",
      "source": [
        "#for loop\n",
        "item_list = [3, \"string\", 23, 14.0, \"string2\", 49, 64, 70]\n",
        "for x in item_list:\n",
        "  if not isinstance(x, int):\n",
        "    continue\n",
        "  if not x % 7:\n",
        "    print(f\"found an integer divisible by seven: {x}\")\n",
        "    break"
      ],
      "metadata": {
        "colab": {
          "base_uri": "https://localhost:8080/"
        },
        "id": "5oW9wZi_Escd",
        "outputId": "e76c6217-e9cd-4773-bd8c-5ea5579166c8"
      },
      "execution_count": null,
      "outputs": [
        {
          "output_type": "stream",
          "name": "stdout",
          "text": [
            "found an integer divisible by seven: 49\n"
          ]
        }
      ]
    },
    {
      "cell_type": "code",
      "source": [
        "#functions\n",
        "def func(x, y, z):\n",
        "  value = x +2*y + z**2\n",
        "  if value > 0:\n",
        "    return x + 2*y + z**2\n",
        "  else:\n",
        "    return 0\n",
        "\n",
        "u, v = 3, 4\n",
        "print(func(u, v, 2))\n",
        "\n",
        "# **args gathers any spare arguments into a dictionary\n",
        "def newfunc(x, y=1, z=1, **args):\n",
        "  print (x, y, z, args)\n",
        "\n",
        "newfunc(1, 2, m=5, n=9, z=3)"
      ],
      "metadata": {
        "colab": {
          "base_uri": "https://localhost:8080/"
        },
        "id": "N7Sc4vlnHdWF",
        "outputId": "a9e10809-128a-49ed-ec33-e52ca40a519b"
      },
      "execution_count": null,
      "outputs": [
        {
          "output_type": "stream",
          "name": "stdout",
          "text": [
            "15\n",
            "1 2 3 {'m': 5, 'n': 9}\n"
          ]
        }
      ]
    },
    {
      "cell_type": "code",
      "source": [
        "#Exceptions (try-except-else-finally)\n",
        "class EmptyFileError(Exception):\n",
        "  pass\n",
        "\n",
        "file_names = [\"myfile1.txt\", \"non_existant\", \"empty_file\", \"myfile2.txt\"]\n",
        "for file_name in file_names:\n",
        "  try:\n",
        "    file = open(file_name, 'r')\n",
        "    line = file.readline()\n",
        "    if line == \"\":\n",
        "      file.close()\n",
        "      raise EmptyFileError(f\"{file_name}: is empty\")\n",
        "  except IOError as error:\n",
        "    print(f\"{file_name}: could not be opened: {error.strerror}\")\n",
        "  except EmptyFileError as error:\n",
        "    print(error)\n",
        "  else:\n",
        "    print(f\"{file_name}: {line}\")\n",
        "  finally:\n",
        "    print(\"Done processing\", file_name)"
      ],
      "metadata": {
        "colab": {
          "base_uri": "https://localhost:8080/"
        },
        "id": "BqfVHyqVJNUy",
        "outputId": "c8ee3e5f-34a9-4afe-aa38-4df89a0d4c91"
      },
      "execution_count": null,
      "outputs": [
        {
          "output_type": "stream",
          "name": "stdout",
          "text": [
            "myfile1.txt: This is myfile1.txt\n",
            "\n",
            "Done processing myfile1.txt\n",
            "non_existant: could not be opened: No such file or directory\n",
            "Done processing non_existant\n",
            "empty_file: is empty\n",
            "Done processing empty_file\n",
            "myfile2.txt: This is myfile2.txt\n",
            "\n",
            "Done processing myfile2.txt\n"
          ]
        }
      ]
    },
    {
      "cell_type": "code",
      "source": [
        "# With keyword\n",
        "file = \"myfile1.txt\"\n",
        "with open(file, 'r') as f:\n",
        "  for line in f:\n",
        "    print(line)"
      ],
      "metadata": {
        "colab": {
          "base_uri": "https://localhost:8080/"
        },
        "id": "ZWbHILb5Lmbn",
        "outputId": "45b55c6a-a0e0-4b0e-92e8-b34d4098688b"
      },
      "execution_count": null,
      "outputs": [
        {
          "output_type": "stream",
          "name": "stdout",
          "text": [
            "This is myfile1.txt\n",
            "\n"
          ]
        }
      ]
    },
    {
      "cell_type": "markdown",
      "source": [
        "## 3.5 Modules"
      ],
      "metadata": {
        "id": "G26SPR4_MJbj"
      }
    },
    {
      "cell_type": "code",
      "source": [
        "#Module example\n",
        "\"\"\"wo module. Contains function: words_occur()\"\"\"\n",
        "def words_occur():\n",
        "  \"\"\"words_occur() - count occurances of words in a file.\"\"\"\n",
        "  #prompt for file\n",
        "  file_name = input(\"Enter the name of a file to use\")\n",
        "  file = open(file_name, 'r')\n",
        "  word_list = file.read().split()\n",
        "  file.close()\n",
        "  occurs_dict = {}\n",
        "  for word in word_list:\n",
        "    occurs_dict[word] = occurs_dict.get(word, 0) + 1\n",
        "  print(f\"File {file_name} has {len(word_list)} words ({len(occurs_dict)} are unique)\")\n",
        "  print(occurs_dict)\n",
        "if __name__ == '__main__':\n",
        "  words_occur()\n"
      ],
      "metadata": {
        "colab": {
          "base_uri": "https://localhost:8080/"
        },
        "id": "cpFm8CUKMMMe",
        "outputId": "f4dcb690-a3d5-436c-a000-62be33948642"
      },
      "execution_count": null,
      "outputs": [
        {
          "output_type": "stream",
          "name": "stdout",
          "text": [
            "Enter the name of a file to usemyfile1.txt\n",
            "File myfile1.txt has 11 words (10 are unique)\n",
            "{'First': 1, 'line': 2, 'in': 1, 'the': 1, 'new': 1, 'file': 1, 'Now': 1, 'add': 1, 'a': 1, 'second': 1}\n"
          ]
        }
      ]
    },
    {
      "cell_type": "markdown",
      "source": [
        "# Chapter 4"
      ],
      "metadata": {
        "id": "14ON5VsyfrZW"
      }
    },
    {
      "cell_type": "markdown",
      "source": [
        "\n",
        "\n",
        "*   Indenting & block structure\n",
        "*   Differentiating comments\n",
        "*   Assigning variables\n",
        "*   Optional type hints\n",
        "*   Evaluating expressions\n",
        "*   Using common data types\n",
        "*   Getting user input\n",
        "*   Using correct Phythonic style\n",
        "\n"
      ],
      "metadata": {
        "id": "A2k1ZP4FfvV9"
      }
    },
    {
      "cell_type": "code",
      "source": [
        "n = 4\n",
        "r = 1\n",
        "while n > 0:\n",
        "    r = r * n\n",
        "    n = n - 1\n",
        "\n",
        "print(f\"{r}\")"
      ],
      "metadata": {
        "colab": {
          "base_uri": "https://localhost:8080/"
        },
        "id": "R9f7ichBGa-X",
        "outputId": "ae836a31-a44c-4a6f-f2c7-9231ec30356c"
      },
      "execution_count": null,
      "outputs": [
        {
          "output_type": "stream",
          "name": "stdout",
          "text": [
            "24\n"
          ]
        }
      ]
    },
    {
      "cell_type": "code",
      "source": [
        "x, y = 0x12E, 0b1111\n",
        "z = (x + y)//2\n",
        "a = (x+y)%2\n",
        "print(abs(z), a)\n",
        "print(divmod(x, y))\n",
        "print(round(x/y))"
      ],
      "metadata": {
        "colab": {
          "base_uri": "https://localhost:8080/"
        },
        "id": "iFnA-1CeVPXL",
        "outputId": "6bb97118-4dde-4a8b-951e-033e7748871c"
      },
      "execution_count": null,
      "outputs": [
        {
          "output_type": "stream",
          "name": "stdout",
          "text": [
            "158 1\n",
            "(20, 2)\n",
            "20\n"
          ]
        }
      ]
    },
    {
      "cell_type": "code",
      "source": [
        "from cmath import *\n",
        "sqrt((1+2j) * (3+4j))\n",
        "name = input(\"Name? \")\n",
        "print(name)"
      ],
      "metadata": {
        "colab": {
          "base_uri": "https://localhost:8080/"
        },
        "id": "RlcjYhTiYDKy",
        "outputId": "35b8762a-01b8-4d70-ed48-d93d23ed3d68"
      },
      "execution_count": null,
      "outputs": [
        {
          "output_type": "stream",
          "name": "stdout",
          "text": [
            "Name? Catnip\n",
            "Catnip\n"
          ]
        }
      ]
    },
    {
      "cell_type": "markdown",
      "source": [
        "# Chapter 5\n",
        "Lists, tuples, and sets.\n",
        "\n",
        "A list in python is similar to an array in C or Java\n",
        "\n",
        "\n",
        "```\n",
        "x = [1, 2, 3]\n",
        "```\n",
        "\n"
      ],
      "metadata": {
        "id": "Pgazc6mQamEL"
      }
    },
    {
      "cell_type": "markdown",
      "source": [
        "## 5.1 - 5.6: Lists"
      ],
      "metadata": {
        "id": "mPH1L30BMNc9"
      }
    },
    {
      "cell_type": "code",
      "source": [
        "x = [0]\n",
        "y = []\n",
        "z = [[1, 3, [4, 5],6],7]\n",
        "print(len(x), len(y), len(z))\n",
        "print(len(z[0]))\n",
        "print(len(z[0][2]))"
      ],
      "metadata": {
        "colab": {
          "base_uri": "https://localhost:8080/"
        },
        "id": "vm4bCttmare_",
        "outputId": "a0018662-cb36-4650-c765-5f3ad877cd30"
      },
      "execution_count": null,
      "outputs": [
        {
          "output_type": "stream",
          "name": "stdout",
          "text": [
            "1 0 2\n",
            "4\n",
            "2\n"
          ]
        }
      ]
    },
    {
      "cell_type": "markdown",
      "source": [
        "positions are zero indexed, but you can also start at the 'end' of the list using -1.\n",
        "\n",
        "You can also extract with slices\n",
        "\n",
        "```\n",
        "x[1:-1] #second until up to last element (not including last)\n",
        "x[0:3] #first three elements -> goes upto but not including the second index\n",
        "x[:3] #begining up to (but not including) fourth element\n",
        "x[3:] #begining from fourth element to the end (includes last element)\n",
        "```\n",
        "\n"
      ],
      "metadata": {
        "id": "HtOHDCBrCj-D"
      }
    },
    {
      "cell_type": "code",
      "source": [
        "x = [0, 1, 2, 3, 4, 5, 6, 7, 8, 9]\n",
        "print(x[0]) #0\n",
        "print(x[-1]) #9\n",
        "print(x[1:-1])\n",
        "print(x[1:4])\n",
        "print(x[:3])\n",
        "print(x[3:])"
      ],
      "metadata": {
        "colab": {
          "base_uri": "https://localhost:8080/"
        },
        "id": "t93HymgACs4P",
        "outputId": "6f88a873-da3e-40fa-de9b-6fb216102179"
      },
      "execution_count": null,
      "outputs": [
        {
          "output_type": "stream",
          "name": "stdout",
          "text": [
            "0\n",
            "9\n",
            "[1, 2, 3, 4, 5, 6, 7, 8]\n",
            "[1, 2, 3]\n",
            "[0, 1, 2]\n",
            "[3, 4, 5, 6, 7, 8, 9]\n"
          ]
        }
      ]
    },
    {
      "cell_type": "code",
      "source": [
        "#modifying\n",
        "x = [0, 1, 2, 3]\n",
        "x[2] = 'two'\n",
        "print(x)"
      ],
      "metadata": {
        "colab": {
          "base_uri": "https://localhost:8080/"
        },
        "id": "-wRZEy_eEsBQ",
        "outputId": "c05f55cd-8bcf-4f85-f22f-45064111d52e"
      },
      "execution_count": null,
      "outputs": [
        {
          "output_type": "stream",
          "name": "stdout",
          "text": [
            "[0, 1, 'two', 3]\n"
          ]
        }
      ]
    },
    {
      "cell_type": "markdown",
      "source": [
        "You can also modify lists using slices using similar : notation"
      ],
      "metadata": {
        "id": "7C2BYTL1FWjd"
      }
    },
    {
      "cell_type": "code",
      "source": [
        "x = [0, 1, 2, 3]\n",
        "x[len(x):] = [4, 5, 6]\n",
        "print(x)\n",
        "x[:0] = [-2, -1] #put at beginning\n",
        "print(x)"
      ],
      "metadata": {
        "colab": {
          "base_uri": "https://localhost:8080/"
        },
        "id": "Jjep4JN_FeNM",
        "outputId": "8ad00e86-2855-40c6-e213-3b59fd7f6e28"
      },
      "execution_count": null,
      "outputs": [
        {
          "output_type": "stream",
          "name": "stdout",
          "text": [
            "[0, 1, 2, 3, 4, 5, 6]\n",
            "[-2, -1, 0, 1, 2, 3, 4, 5, 6]\n"
          ]
        }
      ]
    },
    {
      "cell_type": "markdown",
      "source": [
        "append and extend are two ways to add to lists"
      ],
      "metadata": {
        "id": "Pdt3qk12GLnX"
      }
    },
    {
      "cell_type": "code",
      "source": [
        "x = [0, 1, 2]\n",
        "y = [3, 4, 5]\n",
        "x.append(y) #add entire list y as a single element to x\n",
        "print(x)\n",
        "x = [0, 1, 2]\n",
        "y = [3, 4, 5]\n",
        "x.extend(y) #extends x with the list from y\n",
        "print(x)\n",
        "x.insert(0, 'start') #insert an element prior to the given index\n",
        "print(x)\n",
        "del x[0] #remove element from given index\n",
        "print(x)\n",
        "x.remove(3) #remove first element that matches the literal input (3), not by index\n",
        "print(x)\n",
        "x.reverse() #reverse list in place\n",
        "print(x)"
      ],
      "metadata": {
        "colab": {
          "base_uri": "https://localhost:8080/"
        },
        "id": "SHVH633gGOqy",
        "outputId": "0fea6e88-db21-4ce6-f3bd-5b287b2d2327"
      },
      "execution_count": null,
      "outputs": [
        {
          "output_type": "stream",
          "name": "stdout",
          "text": [
            "[0, 1, 2, [3, 4, 5]]\n",
            "[0, 1, 2, 3, 4, 5]\n",
            "['start', 0, 1, 2, 3, 4, 5]\n",
            "[0, 1, 2, 3, 4, 5]\n",
            "[0, 1, 2, 4, 5]\n",
            "[5, 4, 2, 1, 0]\n"
          ]
        }
      ]
    },
    {
      "cell_type": "code",
      "source": [
        "# move last 3 elements to front\n",
        "x = [3, 4, 5, 0, 1, 2]\n",
        "print(x)\n",
        "x = x[3:] + x[:3]\n",
        "print(x)"
      ],
      "metadata": {
        "colab": {
          "base_uri": "https://localhost:8080/"
        },
        "id": "9OH8RkLrIjXs",
        "outputId": "19ec1eb2-824f-4a3d-ea75-16e2bd15e73d"
      },
      "execution_count": null,
      "outputs": [
        {
          "output_type": "stream",
          "name": "stdout",
          "text": [
            "[3, 4, 5, 0, 1, 2]\n",
            "[0, 1, 2, 3, 4, 5]\n"
          ]
        }
      ]
    },
    {
      "cell_type": "markdown",
      "source": [
        "Sorting lists\n"
      ],
      "metadata": {
        "id": "Ne15G7KWMC77"
      }
    },
    {
      "cell_type": "code",
      "source": [
        "x = [0, 8, 2, 3, 6, 4, 7, 5, 1]\n",
        "x.sort()\n",
        "print(x)"
      ],
      "metadata": {
        "colab": {
          "base_uri": "https://localhost:8080/"
        },
        "id": "KgCh_xX4MFUx",
        "outputId": "8c253e95-6bda-4f4d-930f-80feaf6fe7d6"
      },
      "execution_count": null,
      "outputs": [
        {
          "output_type": "stream",
          "name": "stdout",
          "text": [
            "[0, 1, 2, 3, 4, 5, 6, 7, 8]\n"
          ]
        }
      ]
    },
    {
      "cell_type": "code",
      "source": [
        "# Define a sorting method\n",
        "def comp_num_chars(string1):\n",
        "  return len(string1)\n",
        "word_list = [\"python\", \"is\", \"better\", \"than\", \"perl\"]\n",
        "word_list.sort()\n",
        "print(word_list)\n",
        "word_list = [\"python\", \"is\", \"better\", \"than\", \"perl\"]\n",
        "#use sort method as the key to sort\n",
        "word_list.sort(key=comp_num_chars)\n",
        "print(word_list)\n"
      ],
      "metadata": {
        "colab": {
          "base_uri": "https://localhost:8080/"
        },
        "id": "Q6sh1W2TQKXd",
        "outputId": "f60d7ab4-7c9c-4faf-9d7f-ccefb0e5c5c8"
      },
      "execution_count": null,
      "outputs": [
        {
          "output_type": "stream",
          "name": "stdout",
          "text": [
            "['better', 'is', 'perl', 'python', 'than']\n",
            "['is', 'than', 'perl', 'python', 'better']\n"
          ]
        }
      ]
    },
    {
      "cell_type": "code",
      "source": [
        "# Use a lambda function instead\n",
        "word_list = [\"python\", \"is\", \"better\", \"than\", \"perl\"]\n",
        "word_list.sort(key=lambda x: len(x))\n",
        "print(word_list)"
      ],
      "metadata": {
        "colab": {
          "base_uri": "https://localhost:8080/"
        },
        "id": "GesZaDH_Q7DR",
        "outputId": "2e72ee7c-3bd8-4151-f029-2eaac6dc2fd3"
      },
      "execution_count": null,
      "outputs": [
        {
          "output_type": "stream",
          "name": "stdout",
          "text": [
            "['is', 'than', 'perl', 'python', 'better']\n"
          ]
        }
      ]
    },
    {
      "cell_type": "code",
      "source": [
        "x = [4, 2, 1, 3]\n",
        "y = sorted(x)\n",
        "z = sorted(x, reverse=True)\n",
        "print(x, y, z)"
      ],
      "metadata": {
        "colab": {
          "base_uri": "https://localhost:8080/"
        },
        "id": "kKiftGEqRWUu",
        "outputId": "2b8309c5-ab62-4294-910d-7c931841ffd9"
      },
      "execution_count": null,
      "outputs": [
        {
          "output_type": "stream",
          "name": "stdout",
          "text": [
            "[4, 2, 1, 3] [1, 2, 3, 4] [4, 3, 2, 1]\n"
          ]
        }
      ]
    },
    {
      "cell_type": "code",
      "source": [
        "# sort on second element\n",
        "x = [[1, 2, 3], [2, 1, 3], [0, 3, 1],[3, 0, 2]]\n",
        "x.sort(key=lambda x: x[1])\n",
        "print(x)\n",
        "y = sum(x[0])\n",
        "print(y)"
      ],
      "metadata": {
        "colab": {
          "base_uri": "https://localhost:8080/"
        },
        "id": "U4FNR0_iR0x6",
        "outputId": "ac69035a-4794-49c2-fa28-92be39a005e4"
      },
      "execution_count": null,
      "outputs": [
        {
          "output_type": "stream",
          "name": "stdout",
          "text": [
            "[[3, 0, 2], [2, 1, 3], [1, 2, 3], [0, 3, 1]]\n",
            "5\n"
          ]
        }
      ]
    },
    {
      "cell_type": "markdown",
      "source": [
        "Searching"
      ],
      "metadata": {
        "id": "_1nAu457SpcH"
      }
    },
    {
      "cell_type": "code",
      "source": [
        "x = [1, 3, \"five\", 7, -2]\n",
        "x.index(\"five\")"
      ],
      "metadata": {
        "colab": {
          "base_uri": "https://localhost:8080/"
        },
        "id": "pbDyLlB3SrbJ",
        "outputId": "478b52a0-a8c3-454e-a64c-2e71fc7787bb"
      },
      "execution_count": null,
      "outputs": [
        {
          "output_type": "execute_result",
          "data": {
            "text/plain": [
              "2"
            ]
          },
          "metadata": {},
          "execution_count": 53
        }
      ]
    },
    {
      "cell_type": "markdown",
      "source": [
        "Nested lists and deep/shallow copies"
      ],
      "metadata": {
        "id": "ZC9M_WSwjyle"
      }
    },
    {
      "cell_type": "code",
      "source": [
        "nested = [[0, 1, 2], [10, 11, 12], [20, 21, 22]]\n",
        "original = [nested, 1]\n",
        "print(original)\n",
        "nested[0] = 'zero'\n",
        "print(original)\n",
        "original[0][0] = [0, 2, 1]\n",
        "print(original)"
      ],
      "metadata": {
        "colab": {
          "base_uri": "https://localhost:8080/"
        },
        "id": "nm8ottHlj1z6",
        "outputId": "093fe9e0-5446-4813-df89-5d6708d83a1c"
      },
      "execution_count": null,
      "outputs": [
        {
          "output_type": "stream",
          "name": "stdout",
          "text": [
            "[[[0, 1, 2], [10, 11, 12], [20, 21, 22]], 1]\n",
            "[['zero', [10, 11, 12], [20, 21, 22]], 1]\n",
            "[[[0, 2, 1], [10, 11, 12], [20, 21, 22]], 1]\n"
          ]
        }
      ]
    },
    {
      "cell_type": "markdown",
      "source": [
        "## 5.7 Tuples\n",
        "Similar to lists, but immutable.  Can be used as keys for dictionaries"
      ],
      "metadata": {
        "id": "WEphkLLBTSRW"
      }
    },
    {
      "cell_type": "code",
      "source": [
        "from re import X\n",
        "x = ('a', 'b', 'c')\n",
        "print(x[2])\n",
        "print(x[1:])\n",
        "print(len(x))\n",
        "print(min(x))\n",
        "print(max(x))\n",
        "print(5 in x)\n",
        "y = x + x\n",
        "print(y)\n",
        "(one, two, three, four) = (1, 2, 3, 4)\n",
        "print(one)\n",
        "z = list(x)\n",
        "z[2] = 'd'\n",
        "print(z)"
      ],
      "metadata": {
        "colab": {
          "base_uri": "https://localhost:8080/"
        },
        "id": "kbcKzbTSmh0I",
        "outputId": "951b4332-d9d6-4dfe-e41a-cb4440fa5369"
      },
      "execution_count": null,
      "outputs": [
        {
          "output_type": "stream",
          "name": "stdout",
          "text": [
            "c\n",
            "('b', 'c')\n",
            "3\n",
            "a\n",
            "c\n",
            "False\n",
            "('a', 'b', 'c', 'a', 'b', 'c')\n",
            "1\n",
            "['a', 'b', 'd']\n"
          ]
        }
      ]
    },
    {
      "cell_type": "markdown",
      "source": [
        "## 5.8 Sets\n",
        "unordered collection of unique objects that must be immutable and hashable\n",
        "\n",
        "ints, floats, strings, tuples can be members of a set, but lists, dictionaries, and sets themselves cannot"
      ],
      "metadata": {
        "id": "93fl-pWZml_B"
      }
    },
    {
      "cell_type": "code",
      "source": [
        "x = set([1, 1, 2, 2, 3, 4, 5])\n",
        "print(x)\n",
        "x.add(6)\n",
        "x.remove(5)\n",
        "print(5 in x)\n",
        "print(x)\n",
        "y = set([1, 7, 8, 9, 2])\n",
        "print(x | y)\n",
        "print(x & y)\n",
        "print(x ^ y)\n",
        "z = frozenset(x)\n",
        "y.add(z)\n",
        "print(y)"
      ],
      "metadata": {
        "colab": {
          "base_uri": "https://localhost:8080/"
        },
        "id": "FOtgHmxqmmv6",
        "outputId": "02d9a022-c209-433a-883c-8b9ebe0e2605"
      },
      "execution_count": null,
      "outputs": [
        {
          "output_type": "stream",
          "name": "stdout",
          "text": [
            "{1, 2, 3, 4, 5}\n",
            "False\n",
            "{1, 2, 3, 4, 6}\n",
            "{1, 2, 3, 4, 6, 7, 8, 9}\n",
            "{1, 2}\n",
            "{3, 4, 6, 7, 8, 9}\n",
            "{1, 2, 7, 8, 9, frozenset({1, 2, 3, 4, 6})}\n"
          ]
        }
      ]
    },
    {
      "cell_type": "markdown",
      "source": [
        "## 5.9 Lab"
      ],
      "metadata": {
        "id": "3u_9NEnNdIjH"
      }
    },
    {
      "cell_type": "code",
      "source": [
        "from google.colab import drive\n",
        "drive.mount('/content/drive')\n",
        "\n",
        "temps = []\n",
        "with open('/content/drive/My Drive/Colab Notebooks/lab_05.txt') as infile:\n",
        "  for row in infile:\n",
        "    temps.append(float(row.strip()))\n",
        "  print(temps)\n",
        "drive.flush_and_unmount()\n",
        "print(f\"min={min(temps)}, max={max(temps)}, avg={sum(temps)//len(temps)}\")\n",
        "print(set(temps))"
      ],
      "metadata": {
        "id": "v_geSqOzdHVh",
        "colab": {
          "base_uri": "https://localhost:8080/"
        },
        "outputId": "1e59a5eb-cc33-45c3-9e1d-6a1201289458"
      },
      "execution_count": null,
      "outputs": [
        {
          "output_type": "stream",
          "name": "stdout",
          "text": [
            "Mounted at /content/drive\n",
            "[8.9, 7.9, 14.2, 15.4, 18.1, 19.1, 21.7, 20.8, 19.6, 14.9, 10.8, 8.8, 8.5, 10.4, 9.3, 16.2, 17.1, 22.0, 25.1, 23.9, 22.8, 17.0, 10.2, 9.2, 7.1, 9.9, 12.3, 12.9, 17.2, 23.6, 21.6, 21.9, 17.6, 14.0, 9.3, 3.8, 7.3, 7.0, 8.4, 12.3, 15.0, 20.5, 23.0, 20.2, 19.2, 14.6, 11.8, 8.9, 6.2, 6.7, 10.6, 15.6, 19.6, 20.9, 23.3, 21.6, 16.4, 13.2, 7.5, 5.8, 5.6, 7.5, 11.1, 13.1, 18.7, 19.8, 21.0, 22.6, 19.5, 14.7, 11.3, 10.0, 5.9, 6.1, 10.4, 13.2, 16.8, 18.6, 19.2, 19.8, 18.0, 16.2, 11.2, 9.7, 5.6, 5.0, 7.9, 15.2, 15.5, 20.0, 24.4, 24.3, 19.9, 13.5, 10.7, 9.5, 7.0, 2.9, 11.0, 12.1, 19.1, 18.5, 20.9, 18.8, 19.2, 13.8, 9.3, 8.2, 8.7, 9.0, 13.9, 14.2, 16.2, 23.6, 22.5, 21.1, 17.6, 15.5, 9.4, 7.6, 6.8, 8.9, 8.1, 12.3, 17.3, 19.4, 21.7, 20.8, 20.0, 14.9, 9.7, 8.0, 5.7, 7.4, 11.9, 14.2, 18.7, 22.1, 24.7, 24.2, 22.7, 17.8, 10.8, 9.3, 6.9, 7.9, 10.2, 14.3, 18.4, 22.1, 20.1, 20.3, 18.5, 14.2, 11.2, 6.9, 6.9, 10.3, 13.9, 15.0, 16.8, 21.7, 22.1, 21.7, 20.9, 15.6, 9.9, 6.8, 7.9, 7.6, 7.4, 12.7, 15.0, 20.4, 20.6, 20.0, 17.8, 15.7, 9.1, 5.0, 0.8, 2.8, 10.7, 13.6, 16.0, 20.8, 21.1, 19.8, 18.0, 14.8, 11.8, 5.4, 5.8, 7.6, 7.6, 12.8, 19.6, 19.3, 22.8, 22.3, 21.1, 13.7, 11.2, 7.1, 6.6, 5.9, 10.5, 13.4, 16.8, 19.7, 19.3, 20.8, 17.4, 16.2, 8.4, 8.4, 5.3, 9.3, 10.9, 12.2, 17.0, 21.8, 20.1, 20.6, 19.6, 14.7, 8.8, 9.3, 7.3, 9.3, 11.6, 12.5, 15.6, 20.1, 23.5, 21.5, 18.5, 15.0, 9.7, 7.2, 7.2, 5.7, 11.1, 13.7, 15.4, 20.6, 20.7, 20.2, 18.8, 16.5, 9.5, 5.4, 8.9, 4.9, 8.0, 13.6, 17.1, 20.6, 23.9, 21.8, 19.6, 18.2, 9.6, 6.1, 7.1, 7.2, 8.1, 11.4, 19.2, 23.6, 21.3, 22.3, 20.3, 15.7, 11.9, 7.0, 7.8, 8.6, 9.1, 12.2, 18.1, 17.8, 24.1, 21.3, 20.7, 17.2, 10.4, 9.3, 6.9, 7.9, 12.4, 12.9, 16.0, 17.5, 22.3, 21.8, 17.3, 15.6, 9.9, 9.4, 7.3, 8.1, 11.5, 12.5, 16.9, 21.9, 21.4, 23.7, 20.7, 13.9, 10.3, 8.6, 9.6, 9.2, 10.3, 14.0, 17.0, 20.1, 20.9, 21.5, 17.5, 11.0, 10.6, 11.0, 10.3, 9.3, 8.4, 13.3, 15.1, 21.8, 24.1, 25.9, 19.5, 14.4, 10.1, 7.6, 8.8, 7.8, 9.5, 13.7, 19.3, 25.5, 26.6, 25.1, 19.0, 14.9, 9.9, 5.6, 6.1, 9.6, 11.2, 12.2, 16.4, 17.4, 22.4, 20.3, 18.0, 16.3, 10.4, 9.2, 6.7, 6.2, 11.3, 10.7, 17.2, 19.7, 20.5, 20.7, 20.1, 17.1, 12.6, 7.8, 3.8, 4.5, 9.2, 12.7, 15.9, 19.0, 22.5, 21.0, 19.6, 16.4, 10.8, 9.2, 6.0, 9.9, 9.0, 14.0, 17.3, 19.8, 19.7, 21.9, 20.1, 14.0, 9.3, 8.9, 8.1, 7.1, 11.8, 12.9, 16.1, 18.5, 22.0, 22.8, 20.3, 12.9, 11.5, 4.4, 6.9, 8.4, 11.1, 14.3, 18.0, 21.5, 22.7, 22.2, 20.8, 14.1, 11.4, 8.2, 10.0, 5.5, 10.8, 12.4, 15.6, 20.8, 27.6, 24.5, 19.3, 15.1, 11.3, 9.2, 8.0, 7.4, 8.9, 14.6, 14.9, 21.3, 24.2, 24.4, 18.6, 15.8, 12.2, 8.7, 4.1, 6.3, 9.4, 14.0, 16.4, 18.5, 22.9, 20.3, 20.6, 16.1, 8.1, 10.0, 7.2, 1.7, 10.1, 10.9, 16.3, 21.8, 22.6, 20.0, 17.4, 16.4, 12.1, 9.7, 3.6, 7.7, 8.5, 15.8, 16.3, 18.6, 21.8, 21.8, 19.3, 15.0, 9.8, 8.9, 8.8, 8.7, 10.7, 13.5, 18.0, 19.7, 20.0, 21.8, 18.8, 15.5, 9.9, 10.4, 9.5, 10.2, 12.9, 11.5, 21.0, 22.1, 25.8, 24.2, 20.7, 17.1, 10.9, 9.4, 10.2, 11.7, 13.6, 14.6, 20.5, 19.5, 24.7, 26.0, 19.7, 16.9, 10.7, 7.6, 7.3, 5.4, 12.5, 13.1, 15.7, 17.8, 23.2, 24.1, 21.4, 14.6, 10.6, 8.3, 7.5, 9.5, 11.8, 14.0, 21.0, 22.5, 22.5, 21.7, 18.9, 12.5, 12.0, 7.8, 10.3, 7.2, 11.8, 14.6, 18.0, 21.8, 21.6, 21.6, 17.5, 13.0, 8.8, 9.2, 9.3, 7.7, 12.3, 13.3, 16.0, 21.5, 26.2, 23.0, 17.8, 15.4, 13.6, 10.7, 8.9, 10.7, 11.2, 15.0, 19.0, 20.7, 26.3, 27.0, 19.2, 18.3, 12.0, 5.8, 7.2, 6.8, 8.6, 14.3, 15.1, 22.8, 24.2, 23.1, 19.2, 16.6, 10.5, 6.2, 5.5, 10.8, 13.8, 15.6, 18.7, 20.2, 23.5, 25.8, 20.9, 15.9, 12.5, 9.5, 9.2, 11.6, 12.1, 12.7, 19.6, 19.9, 21.4, 23.5, 20.4, 14.7, 9.6, 9.7, 9.4, 8.8, 12.2, 14.9, 19.1, 20.3, 24.9, 22.8, 21.3, 15.6, 11.3, 8.7, 8.6, 10.4, 12.1, 12.9, 18.0, 21.0, 21.0, 23.2, 20.1, 14.7, 11.0, 9.0, 7.1, 9.2, 9.5, 12.8, 18.8, 20.8, 24.3, 23.5, 18.1, 17.6, 11.3, 7.3, 9.5, 11.3, 12.4, 15.7, 17.3, 20.1, 22.3, 23.3, 20.3, 15.3, 12.4, 9.0, 8.0, 8.4, 13.6, 15.7, 18.2, 23.3, 24.2, 26.4, 21.9, 14.5, 12.6, 8.8, 8.8, 8.7, 10.8, 14.9, 18.2, 22.1, 22.7, 23.8, 20.8, 15.3, 11.2, 8.8, 9.5, 7.3, 11.5, 14.6, 17.7, 22.8, 23.3, 23.2, 21.4, 17.8, 10.7, 8.2, 7.6, 7.2, 9.4, 14.1, 18.0, 23.7, 28.2, 22.2, 22.7, 17.8, 12.7, 9.7, 10.5, 9.9, 12.5, 18.9, 17.9, 21.2, 21.4, 21.5, 19.9, 15.4, 11.4, 8.9, 10.4, 11.0, 10.6, 13.7, 19.8, 20.8, 22.8, 21.5, 18.5, 15.0, 10.7, 7.3, 6.8, 7.8, 12.9, 16.1, 19.1, 22.4, 23.0, 23.9, 20.5, 16.3, 12.6, 7.0, 4.5, 6.9, 11.1, 15.8, 17.3, 23.5, 25.0, 21.6, 19.4, 15.2, 9.1, 3.9, 7.4, 10.2, 12.3, 19.7, 19.4, 20.7, 21.7, 21.8, 21.3, 18.1, 13.6, 9.9, 9.8, 8.0, 14.7, 13.3, 18.2, 19.4, 21.3, 23.5, 20.0, 14.2, 11.0, 9.0, 6.5, 6.7, 6.9, 13.5, 16.4, 20.3, 27.0, 24.3, 19.7, 17.0, 10.4, 10.2, 10.0, 10.6, 14.1, 16.1, 18.0, 22.1, 25.8, 21.7, 21.5, 17.6, 12.5, 9.2, 8.8, 8.0, 11.6, 16.3, 17.6, 22.2, 23.7, 22.2, 18.6, 15.8, 13.4, 13.7, 9.5, 9.4, 10.7, 13.5, 19.0, 20.7, 24.0, 24.7, 22.4, 15.9, 10.5, 10.2]\n",
            "min=0.8, max=28.2, avg=14.0\n",
            "{0.8, 1.7, 2.9, 3.8, 2.8, 5.0, 5.8, 6.2, 7.9, 8.9, 8.8, 10.8, 8.5, 10.4, 9.3, 14.2, 15.4, 14.9, 16.2, 18.1, 19.1, 20.8, 21.7, 19.6, 17.1, 22.0, 25.1, 23.9, 22.8, 23.6, 21.6, 23.0, 23.3, 24.4, 25.9, 26.6, 7.0, 7.5, 6.0, 6.5, 8.0, 9.5, 9.0, 10.0, 10.5, 11.0, 11.5, 12.5, 12.0, 13.5, 13.0, 14.0, 14.5, 15.0, 15.5, 16.4, 16.0, 16.5, 16.9, 16.1, 17.0, 17.6, 17.4, 17.5, 16.6, 18.6, 18.0, 18.5, 18.4, 18.9, 19.5, 19.9, 19.4, 19.0, 4.5, 20.5, 20.9, 20.0, 20.1, 20.4, 21.9, 21.0, 21.1, 20.6, 21.5, 22.6, 22.5, 22.1, 21.4, 22.4, 23.5, 22.9, 23.1, 3.9, 24.1, 24.5, 24.9, 24.0, 25.5, 25.0, 5.5, 26.0, 26.4, 27.6, 27.0, 4.9, 4.4, 5.9, 5.4, 6.9, 7.4, 8.4, 9.9, 9.4, 10.9, 11.9, 11.4, 12.9, 12.4, 13.9, 13.4, 14.4, 15.9, 5.3, 6.8, 6.3, 17.9, 7.3, 7.8, 8.2, 8.7, 8.3, 9.2, 9.7, 9.8, 10.2, 10.7, 10.3, 11.8, 11.3, 11.2, 11.7, 12.3, 12.7, 12.8, 12.2, 13.2, 13.8, 13.7, 13.3, 14.7, 14.3, 14.8, 15.2, 15.7, 15.8, 15.3, 16.8, 16.3, 17.2, 17.3, 17.8, 17.7, 5.7, 18.7, 18.8, 18.2, 18.3, 6.7, 19.2, 19.8, 19.3, 19.7, 7.2, 20.2, 20.3, 20.7, 7.7, 21.8, 21.3, 21.2, 22.7, 22.3, 22.2, 23.7, 23.2, 23.8, 24.3, 24.7, 24.2, 25.8, 26.2, 26.3, 28.2, 4.1, 5.6, 6.1, 6.6, 7.1, 7.6, 8.1, 8.6, 9.1, 9.6, 3.6, 10.6, 10.1, 11.1, 11.6, 12.1, 12.6, 13.1, 13.6, 14.6, 14.1, 15.6, 15.1}\n"
          ]
        }
      ]
    },
    {
      "cell_type": "markdown",
      "source": [
        "# Chapter 6\n",
        "Strings\n",
        "\n",
        "*   Understanding\n",
        "*   Basic operations\n",
        "*   Inserting special chars and escape sequences\n",
        "*   Converting from objects to strings\n",
        "*   Formatting strings\n",
        "*   Using the bytes type\n"
      ],
      "metadata": {
        "id": "kXGuX3SKnBUK"
      }
    },
    {
      "cell_type": "code",
      "source": [
        "#split and join\n",
        "\n",
        "strOne = \"The boy stood on the burning deck\"\n",
        "\n",
        "#plain split\n",
        "splitStr = strOne.split()\n",
        "print(splitStr)\n",
        "\n",
        "#join with underscore\n",
        "print(\"_\".join(splitStr))\n",
        "\n",
        "#split based on letter b\n",
        "print(strOne.split(\"b\"))\n",
        "\n",
        "#split based on b, but only the first time it finds a b\n",
        "print(strOne.split(\"b\", 1))"
      ],
      "metadata": {
        "colab": {
          "base_uri": "https://localhost:8080/"
        },
        "id": "gzClcnd-jmzc",
        "outputId": "b9fa50ed-924b-4b59-d5d6-648c3cd697f8"
      },
      "execution_count": null,
      "outputs": [
        {
          "output_type": "stream",
          "name": "stdout",
          "text": [
            "['The', 'boy', 'stood', 'on', 'the', 'burning', 'deck']\n",
            "The_boy_stood_on_the_burning_deck\n",
            "['The ', 'oy stood on the ', 'urning deck']\n",
            "['The ', 'oy stood on the burning deck']\n"
          ]
        }
      ]
    },
    {
      "cell_type": "code",
      "source": [
        "#string conversions\n",
        "str = '123.45'\n",
        "#convert to float\n",
        "print(float(str))\n",
        "#convert to int\n",
        "print(int(float(str))) #can't go directly to int, due to decimal in string\n",
        "\n",
        "strInt = '1000'\n",
        "#convert to Octal int\n",
        "print(int(strInt, 8))\n",
        "#convert to Hex int\n",
        "print(int(strInt, 16))\n",
        "#convert to Binary int\n",
        "print(int(strInt, 2))\n",
        "#base 6\n",
        "print(int(strInt, 6))\n",
        "#bit of math\n",
        "print(1250000 * float('1.225'))"
      ],
      "metadata": {
        "colab": {
          "base_uri": "https://localhost:8080/"
        },
        "id": "w6XXBTJ6lTB9",
        "outputId": "6427c5c5-663d-4f8a-dccd-9f1e1b9ca8b2"
      },
      "execution_count": null,
      "outputs": [
        {
          "output_type": "stream",
          "name": "stdout",
          "text": [
            "123.45\n",
            "123\n",
            "512\n",
            "4096\n",
            "8\n",
            "216\n",
            "1531250.0\n"
          ]
        }
      ]
    },
    {
      "cell_type": "markdown",
      "source": [
        "strip, lstrip, rstrip"
      ],
      "metadata": {
        "id": "TTkGVP4jnrvQ"
      }
    },
    {
      "cell_type": "code",
      "source": [
        "str = \"  Hello,      World.\\t\\t\"\n",
        "print(f\"{str}!\")\n",
        "str2 = str.split()\n",
        "print(str2)\n",
        "print(\" \".join(str2))\n",
        "\n",
        "print(f\"{str.strip()}!\")\n",
        "#strip left\n",
        "print(f\"{str.lstrip()}!\")\n",
        "#strip left and right\n",
        "print(f\"{str.lstrip().rstrip()}!\")\n",
        "\n",
        "import string\n",
        "string.whitespace\n",
        "print(f\"{str.strip(string.whitespace)}#\")\n",
        "\n",
        "x = \"www.python.org\"\n",
        "print(x.strip(\"w.org\"))\n",
        "print(x.removeprefix(\"www.\"))\n",
        "print(x.removesuffix(\".org\"))\n",
        "print(x.removeprefix(\"www.\").removesuffix(\".org\"))"
      ],
      "metadata": {
        "colab": {
          "base_uri": "https://localhost:8080/"
        },
        "id": "l6zYiZAmnurP",
        "outputId": "f87c817c-fba5-4488-dd6e-56db08f4d828"
      },
      "execution_count": null,
      "outputs": [
        {
          "output_type": "stream",
          "name": "stdout",
          "text": [
            "  Hello,      World.\t\t!\n",
            "['Hello,', 'World.']\n",
            "Hello, World.\n",
            "Hello,      World.!\n",
            "Hello,      World.\t\t!\n",
            "Hello,      World.!\n",
            "Hello,      World.#\n",
            "python\n",
            "python.org\n",
            "www.python\n",
            "python\n"
          ]
        }
      ]
    },
    {
      "cell_type": "code",
      "source": [
        "#string searching\n",
        "str = \"mississippi\"\n",
        "print(str.find(\"ss\")) #return position of first instance\n",
        "print(str.rfind(\"ss\")) #search from back of string\n",
        "print(str.count(\"ss\")) #how many times something appears in string\n",
        "\n",
        "#string replacements\n",
        "print(str.replace(\"ss\", \"++\"))"
      ],
      "metadata": {
        "colab": {
          "base_uri": "https://localhost:8080/"
        },
        "id": "SXSVq42lqrb9",
        "outputId": "91a1e5f4-93da-4874-a4ba-2992345ad114"
      },
      "execution_count": null,
      "outputs": [
        {
          "output_type": "stream",
          "name": "stdout",
          "text": [
            "2\n",
            "5\n",
            "2\n",
            "mi++i++ippi\n"
          ]
        }
      ]
    },
    {
      "cell_type": "code",
      "source": [
        "#string manipulation\n",
        "text = \"Hello world\"\n",
        "wordList = list(text)\n",
        "print(wordList)\n",
        "wordList[6:] = []\n",
        "print(wordList)\n",
        "wordList.reverse()\n",
        "text += \"\".join(wordList)\n",
        "print(text)\n",
        "\n",
        "for i in range(len(text)):\n",
        "  if i%2 == 0:\n",
        "    str = text[i].upper()\n",
        "    print(str, end=\"\")\n",
        "  else:\n",
        "    str = text[i]\n",
        "    print(str, end=\"\")"
      ],
      "metadata": {
        "colab": {
          "base_uri": "https://localhost:8080/"
        },
        "id": "pwoLjbZbr8x6",
        "outputId": "11db4ae8-99ae-4c50-dc6b-944a065a620f"
      },
      "execution_count": null,
      "outputs": [
        {
          "output_type": "stream",
          "name": "stdout",
          "text": [
            "['H', 'e', 'l', 'l', 'o', ' ', 'w', 'o', 'r', 'l', 'd']\n",
            "['H', 'e', 'l', 'l', 'o', ' ']\n",
            "Hello world olleH\n",
            "HeLlO WoRlD OlLeH"
          ]
        }
      ]
    },
    {
      "cell_type": "markdown",
      "source": [
        "## 6.6 String Formats"
      ],
      "metadata": {
        "id": "8DWbsup0tutl"
      }
    },
    {
      "cell_type": "code",
      "source": [
        "str = \"{0} is the {1} of {2}\".format(\"Beer\", \"drink\", \"champions\")\n",
        "print(str)\n",
        "str2 = \"{item} is the {verb} of {owner}\".format(item=\"Beer\", verb=\"drink\", owner=\"champions\")\n",
        "print(str2)"
      ],
      "metadata": {
        "colab": {
          "base_uri": "https://localhost:8080/"
        },
        "id": "DRMu2pLctybC",
        "outputId": "c20b3e16-f054-46ab-fec0-711e8c6a7687"
      },
      "execution_count": null,
      "outputs": [
        {
          "output_type": "stream",
          "name": "stdout",
          "text": [
            "Beer is the drink of champions\n",
            "Beer is the drink of champions\n"
          ]
        }
      ]
    },
    {
      "cell_type": "markdown",
      "source": [
        "## 6.7 String interpolation with f-strings"
      ],
      "metadata": {
        "id": "imjJwdVvFslF"
      }
    },
    {
      "cell_type": "code",
      "source": [
        "val = 67\n",
        "topic = \"some number\"\n",
        "print(f\"{topic} is {val}\")\n"
      ],
      "metadata": {
        "id": "D3n4xvLUFy3l",
        "outputId": "51bf012f-b1dc-4ada-9bc8-e73d54f8745f",
        "colab": {
          "base_uri": "https://localhost:8080/"
        }
      },
      "execution_count": null,
      "outputs": [
        {
          "output_type": "stream",
          "name": "stdout",
          "text": [
            "some number is 67\n"
          ]
        }
      ]
    },
    {
      "cell_type": "markdown",
      "source": [
        "## 6.8 Formatting with %"
      ],
      "metadata": {
        "id": "i9FtvQNJhSe1"
      }
    },
    {
      "cell_type": "code",
      "source": [
        "val = 67\n",
        "topic = \"some number\"\n",
        "formatted = \"%s is %s\" % (topic, val)\n",
        "print(formatted)"
      ],
      "metadata": {
        "colab": {
          "base_uri": "https://localhost:8080/"
        },
        "id": "zxgSzaUyhe_x",
        "outputId": "45a7ae43-4350-42e3-86d5-84137c441939"
      },
      "execution_count": null,
      "outputs": [
        {
          "output_type": "stream",
          "name": "stdout",
          "text": [
            "some number is 67\n"
          ]
        }
      ]
    },
    {
      "cell_type": "code",
      "source": [
        "#formatting sequences - ie, make a float with precision of 2 decimals\n",
        "\"Pi is <%-6.2f>\" % 3.14159"
      ],
      "metadata": {
        "colab": {
          "base_uri": "https://localhost:8080/",
          "height": 35
        },
        "id": "yvicnQ38iY8Z",
        "outputId": "d21ea007-1a79-4190-dc69-2aa3e0ce0ae4"
      },
      "execution_count": null,
      "outputs": [
        {
          "output_type": "execute_result",
          "data": {
            "text/plain": [
              "'Pi is <3.14  >'"
            ],
            "application/vnd.google.colaboratory.intrinsic+json": {
              "type": "string"
            }
          },
          "metadata": {},
          "execution_count": 3
        }
      ]
    },
    {
      "cell_type": "code",
      "source": [
        "#named params\n",
        "num_dict = {'e': 2.718, 'pi': 3.14159}\n",
        "print(\"Pi: %(pi).4f, e: %(e).2f\" % num_dict) #rounds up"
      ],
      "metadata": {
        "colab": {
          "base_uri": "https://localhost:8080/"
        },
        "id": "4Q5b8hf0ip3N",
        "outputId": "c6050171-6b85-4e28-a6dd-1c7ae3f60675"
      },
      "execution_count": null,
      "outputs": [
        {
          "output_type": "stream",
          "name": "stdout",
          "text": [
            "Pi: 3.1416, e: 2.72\n"
          ]
        }
      ]
    },
    {
      "cell_type": "code",
      "source": [
        "#bonus: controlling output with print\n",
        "print(\"a\", \"b\", \"c\", sep=\"|\")\n",
        "print(\"a\", \"b\", file=open(\"myfile1.txt\", \"w\"))"
      ],
      "metadata": {
        "colab": {
          "base_uri": "https://localhost:8080/"
        },
        "id": "GxJz8pvWjo9X",
        "outputId": "c1b7d8cb-c0df-455d-a4ea-d9e97e5d69e7"
      },
      "execution_count": null,
      "outputs": [
        {
          "output_type": "stream",
          "name": "stdout",
          "text": [
            "a|b|c\n"
          ]
        }
      ]
    },
    {
      "cell_type": "markdown",
      "source": [
        "## 6.9 Bytes\n",
        "Similar to strings, but with a dif... string is immutable sequence of unicode chars, bytes object is a sequence of integers with values from 0 to 256.  Generally used for dealing with binary data types and binary data files."
      ],
      "metadata": {
        "id": "baR60oedkhs8"
      }
    },
    {
      "cell_type": "code",
      "source": [
        "unicode_a_with_acute = '\\N{LATIN SMALL LETTER A WITH ACUTE}'\n",
        "unicode_a_with_acute\n",
        "xb = unicode_a_with_acute.encode()\n",
        "print(xb)\n",
        "print(unicode_a_with_acute)\n",
        "print(xb.decode())"
      ],
      "metadata": {
        "colab": {
          "base_uri": "https://localhost:8080/"
        },
        "id": "90FHHgX3kkAt",
        "outputId": "43476829-9562-47ca-9d92-b8a2d02e2730"
      },
      "execution_count": null,
      "outputs": [
        {
          "output_type": "stream",
          "name": "stdout",
          "text": [
            "b'\\xc3\\xa1'\n",
            "á\n",
            "á\n"
          ]
        }
      ]
    },
    {
      "cell_type": "markdown",
      "source": [
        "## 6.10 preproccessing text"
      ],
      "metadata": {
        "id": "y0FU3PL4mO70"
      }
    },
    {
      "cell_type": "code",
      "source": [
        "from google.colab import drive\n",
        "drive.flush_and_unmount()\n",
        "drive.mount('/content/drive')\n",
        "import string\n",
        "\n",
        "#define a mapping of punctuation to 'none'\n",
        "punct = str.maketrans(\"\",\"\",string.punctuation)\n",
        "\n",
        "temps = []\n",
        "with open('/content/drive/My Drive/Colab Notebooks/moby_01.txt') as infile:\n",
        "  with open(\"/content/drive/My Drive/Colab Notebooks/moby_02_scrubbed.txt\", \"w\") as outfile:\n",
        "    for line in infile:\n",
        "      cleaned_words = \"\\n\".join(line.lower().translate(punct).split())\n",
        "      outfile.write(cleaned_words)\n",
        "drive.flush_and_unmount()\n",
        "print(\"done\")"
      ],
      "metadata": {
        "id": "fFLO1L46mSDg",
        "colab": {
          "base_uri": "https://localhost:8080/"
        },
        "outputId": "39786f18-05d0-44c2-e58a-6a4eefb35cd2"
      },
      "execution_count": null,
      "outputs": [
        {
          "output_type": "stream",
          "name": "stdout",
          "text": [
            "Drive not mounted, so nothing to flush and unmount.\n",
            "Mounted at /content/drive\n",
            "done\n"
          ]
        }
      ]
    },
    {
      "cell_type": "markdown",
      "source": [
        "# Chapter 7\n",
        "\n",
        "* Defining a dictionary\n",
        "* Using dictionary operations\n",
        "* Determining what can be used as a key\n",
        "* Creating sparse matrices\n",
        "* Using dictionaries as caches\n",
        "* Trusting the efficiency of dictionaries"
      ],
      "metadata": {
        "id": "dmSX8_8_IiQ1"
      }
    },
    {
      "cell_type": "code",
      "source": [
        "#a quick comparison of list and dict\n",
        "x_list = []\n",
        "y_dict = {}\n",
        "x_list.append(1)\n",
        "print (x_list)\n",
        "y_dict['a'] = 1\n",
        "print(y_dict)\n",
        "print(x_list[0])\n",
        "print(y_dict['a'])"
      ],
      "metadata": {
        "colab": {
          "base_uri": "https://localhost:8080/"
        },
        "id": "TrXEa2abLew3",
        "outputId": "5abcc85a-ddc6-46b1-ef65-68373ed1cd56"
      },
      "execution_count": null,
      "outputs": [
        {
          "output_type": "stream",
          "name": "stdout",
          "text": [
            "[1]\n",
            "{'a': 1}\n",
            "1\n",
            "1\n"
          ]
        }
      ]
    },
    {
      "cell_type": "code",
      "source": [
        "peeps = {}\n",
        "numpeeps = 3\n",
        "for i in range(numpeeps):\n",
        "  name = input(\"Enter name: \")\n",
        "  age = input(\"Enter age: \")\n",
        "  peeps[name] = age\n",
        "search = input(\"Enter name to search: \")\n",
        "print(f\"{search} is {peeps[search]}\")"
      ],
      "metadata": {
        "colab": {
          "base_uri": "https://localhost:8080/"
        },
        "id": "IH2vWmwDMfe9",
        "outputId": "dcc69d76-9494-4837-efd9-5cdd9cc13a4d"
      },
      "execution_count": null,
      "outputs": [
        {
          "output_type": "stream",
          "name": "stdout",
          "text": [
            "Enter name: Catnip\n",
            "Enter age: 16\n",
            "Enter name: Shivers\n",
            "Enter age: 17\n",
            "Enter name: Bella\n",
            "Enter age: 13\n",
            "Enter name to search: Bella\n",
            "Bella is 13\n"
          ]
        }
      ]
    },
    {
      "cell_type": "markdown",
      "source": [
        "Other dict operations"
      ],
      "metadata": {
        "id": "kaaHCkThNbLT"
      }
    },
    {
      "cell_type": "code",
      "source": [
        "peeps = {\"Catnip\": 16, \"Shivers\": 17, \"Bella\": 13}\n",
        "print(len(peeps)) #size of dict\n",
        "print(peeps.keys()) #get the keys\n",
        "print(peeps.values()) #get the values\n",
        "print(peeps.items()) #get each pair\n",
        "\n",
        "#other operations\n",
        "print(peeps.get('Bella')) #retrieve value of bella - same as peeps['Bella']\n",
        "print('Bella' in peeps) #return true if in the dict, else false\n",
        "print('Cinder' in peeps)\n",
        "del(peeps['Bella'])\n",
        "print(peeps)\n",
        "peeps['Cinder'] = 14\n",
        "print(peeps)"
      ],
      "metadata": {
        "colab": {
          "base_uri": "https://localhost:8080/"
        },
        "id": "HG1nesZkNdOA",
        "outputId": "c85badd0-0a5b-4888-acf2-2dff9b56318c"
      },
      "execution_count": null,
      "outputs": [
        {
          "output_type": "stream",
          "name": "stdout",
          "text": [
            "3\n",
            "dict_keys(['Catnip', 'Shivers', 'Bella'])\n",
            "dict_values([16, 17, 13])\n",
            "dict_items([('Catnip', 16), ('Shivers', 17), ('Bella', 13)])\n",
            "13\n",
            "True\n",
            "False\n",
            "{'Catnip': 16, 'Shivers': 17}\n",
            "{'Catnip': 16, 'Shivers': 17, 'Cinder': 14}\n"
          ]
        }
      ]
    },
    {
      "cell_type": "code",
      "source": [
        "from google.colab import drive\n",
        "drive.flush_and_unmount()\n",
        "drive.mount('/content/drive')\n",
        "import string\n",
        "\n",
        "occurences = {}\n",
        "with open(\"/content/drive/My Drive/Colab Notebooks/moby_02_scrubbed.txt\", \"r\") as infile:\n",
        "  for word in infile:\n",
        "    occurences[word] = occurences.get(word, 0) + 1\n",
        "drive.flush_and_unmount()\n",
        "print(occurences)\n"
      ],
      "metadata": {
        "colab": {
          "base_uri": "https://localhost:8080/"
        },
        "id": "ICgd3m1zPjrr",
        "outputId": "9c4cabce-7ffd-45a3-bb16-1a0f18b8dc2b"
      },
      "execution_count": null,
      "outputs": [
        {
          "output_type": "stream",
          "name": "stdout",
          "text": [
            "Mounted at /content/drive\n",
            "{'call\\n': 1, 'me\\n': 3, 'ishmael\\n': 1, 'some\\n': 2, 'years\\n': 1, 'ago\\n': 1, 'never\\n': 1, 'mind\\n': 1, 'how\\n': 1, 'long\\n': 1, 'preciselyhaving\\n': 1, 'little\\n': 1, 'or\\n': 1, 'no\\n': 1, 'money\\n': 1, 'in\\n': 4, 'my\\n': 4, 'purse\\n': 1, 'and\\n': 6, 'nothing\\n': 2, 'particularto\\n': 1, 'interest\\n': 1, 'on\\n': 1, 'shore\\n': 1, 'i\\n': 7, 'thought\\n': 1, 'would\\n': 1, 'sail\\n': 1, 'about\\n': 2, 'a\\n': 6, 'littleand\\n': 1, 'see\\n': 1, 'the\\n': 13, 'watery\\n': 1, 'part\\n': 1, 'of\\n': 7, 'world\\n': 1, 'it\\n': 6, 'is\\n': 6, 'way\\n': 1, 'haveof\\n': 1, 'driving\\n': 1, 'off\\n': 2, 'spleen\\n': 1, 'regulating\\n': 1, 'circulationwhenever\\n': 1, 'find\\n': 1, 'myself\\n': 2, 'growing\\n': 1, 'grim\\n': 1, 'mouthwhenever\\n': 1, 'damp\\n': 1, 'drizzly\\n': 1, 'november\\n': 1, 'soul\\n': 1, 'whenever\\n': 2, 'ifind\\n': 1, 'involuntarily\\n': 1, 'pausing\\n': 1, 'before\\n': 1, 'coffin\\n': 1, 'warehousesand\\n': 1, 'bringing\\n': 1, 'up\\n': 1, 'rear\\n': 1, 'every\\n': 1, 'funeral\\n': 1, 'meetand\\n': 1, 'especially\\n': 1, 'hypos\\n': 1, 'get\\n': 2, 'such\\n': 1, 'an\\n': 1, 'upper\\n': 1, 'hand\\n': 1, 'methat\\n': 1, 'requires\\n': 1, 'strong\\n': 1, 'moral\\n': 1, 'principle\\n': 1, 'to\\n': 4, 'prevent\\n': 1, 'fromdeliberately\\n': 1, 'stepping\\n': 1, 'into\\n': 1, 'street\\n': 1, 'methodically\\n': 1, 'knockingpeoples\\n': 1, 'hats\\n': 1, 'then\\n': 1, 'account\\n': 1, 'high\\n': 1, 'time\\n': 1, 'seaas\\n': 1, 'soon\\n': 1, 'as\\n': 1, 'can\\n': 1, 'this\\n': 1, 'substitute\\n': 1, 'for\\n': 1, 'pistol\\n': 1, 'ballwith\\n': 1, 'philosophical\\n': 1, 'flourish\\n': 1, 'cato\\n': 1, 'throws\\n': 1, 'himself\\n': 1, 'upon\\n': 1, 'his\\n': 1, 'swordi\\n': 1, 'quietly\\n': 1, 'take\\n': 2, 'ship\\n': 1, 'there\\n': 1, 'surprising\\n': 1, 'thisif\\n': 1, 'they\\n': 1, 'but\\n': 1, 'knew\\n': 1, 'almost\\n': 1, 'all\\n': 1, 'men\\n': 1, 'their\\n': 1, 'degree\\n': 1, 'timeor\\n': 1, 'other\\n': 1, 'cherish\\n': 1, 'very\\n': 1, 'nearly\\n': 1, 'same\\n': 1, 'feelings\\n': 1, 'towardsthe\\n': 1, 'ocean\\n': 1, 'with\\n': 2, 'methere\\n': 1, 'now\\n': 1, 'your\\n': 1, 'insular\\n': 1, 'city\\n': 1, 'manhattoes\\n': 1, 'belted\\n': 1, 'round\\n': 1, 'by\\n': 3, 'wharvesas\\n': 1, 'indian\\n': 1, 'isles\\n': 1, 'coral\\n': 1, 'reefs\\n': 1, 'commerce\\n': 1, 'surrounds\\n': 1, 'her\\n': 1, 'surfright\\n': 1, 'left\\n': 1, 'streets\\n': 1, 'you\\n': 1, 'waterward\\n': 1, 'its\\n': 1, 'extreme\\n': 1, 'downtownis\\n': 1, 'battery\\n': 1, 'where\\n': 1, 'that\\n': 1, 'noble\\n': 1, 'mole\\n': 1, 'washed\\n': 1, 'waves\\n': 1, 'cooledby\\n': 1, 'breezes\\n': 1, 'which\\n': 1, 'few\\n': 1, 'hours\\n': 1, 'previous\\n': 1, 'were\\n': 1, 'out\\n': 1, 'sight\\n': 1, 'landlook\\n': 1, 'at\\n': 1, 'crowds\\n': 1, 'watergazers\\n': 1, 'there': 1}\n"
          ]
        }
      ]
    },
    {
      "cell_type": "markdown",
      "source": [
        "## 7.5 Sparse matrices"
      ],
      "metadata": {
        "id": "mh6AkZg4STP5"
      }
    },
    {
      "cell_type": "markdown",
      "source": [
        "A matrix is a 2d grid, such as\n",
        "\n",
        "1  2  3 \\\n",
        "4  5  6 \\\n",
        "7  8  9"
      ],
      "metadata": {
        "id": "AhxSIFBFaJAy"
      }
    },
    {
      "cell_type": "code",
      "source": [
        "theMatrix = [[1, 2, 3], [4, 5, 6], [7, 8, 9]]\n",
        "print(theMatrix)\n",
        "element = theMatrix[2][2]\n",
        "print(element)"
      ],
      "metadata": {
        "colab": {
          "base_uri": "https://localhost:8080/"
        },
        "id": "zJDTm_Q9YTxE",
        "outputId": "e0a13a20-0a4b-4c95-f69b-62a59bb0d09e"
      },
      "execution_count": null,
      "outputs": [
        {
          "output_type": "stream",
          "name": "stdout",
          "text": [
            "[[1, 2, 3], [4, 5, 6], [7, 8, 9]]\n",
            "9\n"
          ]
        }
      ]
    },
    {
      "cell_type": "markdown",
      "source": [
        "A sparse matrix is a large matrix where many elements are set to zero.  To save space they are represented with dictionaries, such as\n",
        "\n",
        "3  0  -2  11 \\\n",
        "0  9   0   0 \\\n",
        "0  7   0   0 \\\n",
        "0  0   0  -5"
      ],
      "metadata": {
        "id": "EXx9Je9VaWyf"
      }
    },
    {
      "cell_type": "code",
      "source": [
        "matrix = [[3, 0, -2, 11],[0, 9, 0, 0],[0, 7, 0, 0],[0, 0, 0, -5]]\n",
        "print(matrix)\n",
        "\n",
        "#sparse version\n",
        "sparse = {(0, 0): 3, (0, 2): -2, (0, 3): 11, (1, 1): 9, (2, 1): 7, (3, 3): -5}\n",
        "i, j = 0, 0\n",
        "while i < len(matrix):\n",
        "  while j < len(matrix[i]):\n",
        "    print(matrix[i][j])\n",
        "    element = sparse.get((i, j), 0)\n",
        "    print(element)\n",
        "    j += 1\n",
        "  j = 0\n",
        "  i += 1\n",
        "\n"
      ],
      "metadata": {
        "colab": {
          "base_uri": "https://localhost:8080/"
        },
        "id": "-L7cEaviafog",
        "outputId": "7fd7a659-156c-4f3c-9bef-a8c0361debb6"
      },
      "execution_count": null,
      "outputs": [
        {
          "output_type": "stream",
          "name": "stdout",
          "text": [
            "[[3, 0, -2, 11], [0, 9, 0, 0], [0, 7, 0, 0], [0, 0, 0, -5]]\n",
            "3\n",
            "3\n",
            "0\n",
            "0\n",
            "-2\n",
            "-2\n",
            "11\n",
            "11\n",
            "0\n",
            "0\n",
            "9\n",
            "9\n",
            "0\n",
            "0\n",
            "0\n",
            "0\n",
            "0\n",
            "0\n",
            "7\n",
            "7\n",
            "0\n",
            "0\n",
            "0\n",
            "0\n",
            "0\n",
            "0\n",
            "0\n",
            "0\n",
            "0\n",
            "0\n",
            "-5\n",
            "-5\n"
          ]
        }
      ]
    },
    {
      "cell_type": "markdown",
      "source": [
        "## 7.6 Dictionaries as cache"
      ],
      "metadata": {
        "id": "TYX3uubAfGC2"
      }
    },
    {
      "cell_type": "code",
      "source": [
        "#store contents of Google sheet in dictionary\n",
        "# ('sheet name', 'column', 'row')\n",
        "sheet = {}\n",
        "sheet[('TI', 'A', 1)] = 100\n",
        "sheet[('GCP', 'A', 2)] = 200\n",
        "sheet[('TI', 'B', 1)] = 300\n",
        "sheet[('GCP', 'B', 2)] = 400\n",
        "print(sheet)\n",
        "print(sheet[('TI', 'A', 1)] * sheet[('GCP', 'B', 2)])"
      ],
      "metadata": {
        "colab": {
          "base_uri": "https://localhost:8080/"
        },
        "id": "elD6HTgcfJ2s",
        "outputId": "afe6d3d5-c1e6-4a88-ba78-8a4b0df83186"
      },
      "execution_count": null,
      "outputs": [
        {
          "output_type": "stream",
          "name": "stdout",
          "text": [
            "{('TI', 'A', 1): 100, ('GCP', 'A', 2): 200, ('TI', 'B', 1): 300, ('GCP', 'B', 2): 400}\n",
            "40000\n"
          ]
        }
      ]
    },
    {
      "cell_type": "markdown",
      "source": [
        "# Chapter 8\n"
      ],
      "metadata": {
        "id": "3ZFeaLx8hnC8"
      }
    },
    {
      "cell_type": "markdown",
      "source": [
        "Control flow:\n",
        "\n",
        "* if-elif-else\n",
        "* pattern matching\n",
        "* while\n",
        "* for\n",
        "* list and dictionary comprehensions\n",
        "* statements and blocks\n",
        "* boolean values and expressions"
      ],
      "metadata": {
        "id": "0utre7IXhrMe"
      }
    },
    {
      "cell_type": "code",
      "source": [
        "#general if format\n",
        "statement = \"first\"\n",
        "statement2 = \"second\"\n",
        "statement3 = \"third\"\n",
        "test = int(input(\"a number: \"))\n",
        "\n",
        "if test < 2:\n",
        "  print(statement)\n",
        "elif test < 3:\n",
        "  print(statement2)\n",
        "else:\n",
        "  print(statement3)"
      ],
      "metadata": {
        "colab": {
          "base_uri": "https://localhost:8080/"
        },
        "id": "VTtRESPZl07d",
        "outputId": "cb17496b-2ff5-4fae-f96c-978e9bd9149c"
      },
      "execution_count": 9,
      "outputs": [
        {
          "output_type": "stream",
          "name": "stdout",
          "text": [
            "a number: 3\n",
            "third\n"
          ]
        }
      ]
    },
    {
      "cell_type": "markdown",
      "source": [
        "__Structural Pattern Matching__ \\\n",
        "Similar but more powerful that case/switch statements in other languages.  Can match based on equality as well as types\n"
      ],
      "metadata": {
        "id": "pPmQBru8D2wO"
      }
    },
    {
      "cell_type": "code",
      "source": [
        "x = 5\n",
        "match x:\n",
        "  case \"A\":\n",
        "    print(\"A\")\n",
        "  case str():\n",
        "    print(\"some other string\")\n",
        "  case 0:\n",
        "    print(\"Zero\")\n",
        "  case 1 | 2 | 3:\n",
        "    print(f\"value {x} in range\")\n",
        "  case int():\n",
        "    print(f\"The integer {x}\")\n",
        "  case _:\n",
        "    print(\"Neither string nor int\")"
      ],
      "metadata": {
        "colab": {
          "base_uri": "https://localhost:8080/"
        },
        "id": "tWa-pW47EGvy",
        "outputId": "94a558bf-5f75-4e52-9032-97560fbd0fb6"
      },
      "execution_count": 7,
      "outputs": [
        {
          "output_type": "stream",
          "name": "stdout",
          "text": [
            "The integer 5\n"
          ]
        }
      ]
    },
    {
      "cell_type": "markdown",
      "source": [
        "__Looping__\n",
        "\n",
        "*While Loops* \\\n",
        "while (condition): \\\n",
        "..body \\\n",
        "else: \\\n",
        "..post-code \\\n",
        "\n",
        "*For Loops* \\\n",
        "for <item> in <sequence>: \\\n",
        "..body \\\n",
        "else: \\\n",
        "..post code"
      ],
      "metadata": {
        "id": "QEhFzIxlEqwP"
      }
    },
    {
      "cell_type": "code",
      "source": [
        "#while loop\n",
        "response = \"\"\n",
        "while response != \"Q\":\n",
        "  response = input(\"Q to quit, B to break\")\n",
        "  if response == \"B\":\n",
        "    break\n",
        "else:\n",
        "  print(\"no break\")\n",
        "\n",
        "x = [1, 2, 3]\n",
        "for n in x:\n",
        "  if n == 1:\n",
        "    print('1')\n",
        "  elif n == 2:\n",
        "    print('2')\n",
        "  elif n == 3:\n",
        "    print('3')\n",
        "  else:\n",
        "    print('other')"
      ],
      "metadata": {
        "colab": {
          "base_uri": "https://localhost:8080/"
        },
        "id": "FOcycsiVEuhp",
        "outputId": "44b660bf-f9cf-4e75-f687-d68d8a7462e8"
      },
      "execution_count": 11,
      "outputs": [
        {
          "output_type": "stream",
          "name": "stdout",
          "text": [
            "Q to quit, B to breakB\n",
            "1\n",
            "2\n",
            "3\n"
          ]
        }
      ]
    }
  ]
}