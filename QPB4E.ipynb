{
  "nbformat": 4,
  "nbformat_minor": 0,
  "metadata": {
    "colab": {
      "provenance": [],
      "toc_visible": true,
      "authorship_tag": "ABX9TyNyM6EdaS1K7c6NOKyOymhL",
      "include_colab_link": true
    },
    "kernelspec": {
      "name": "python3",
      "display_name": "Python 3"
    },
    "language_info": {
      "name": "python"
    }
  },
  "cells": [
    {
      "cell_type": "markdown",
      "metadata": {
        "id": "view-in-github",
        "colab_type": "text"
      },
      "source": [
        "<a href=\"https://colab.research.google.com/github/hollowmatt/PyColab/blob/main/QPB4E.ipynb\" target=\"_parent\"><img src=\"https://colab.research.google.com/assets/colab-badge.svg\" alt=\"Open In Colab\"/></a>"
      ]
    },
    {
      "cell_type": "markdown",
      "source": [
        "# About this Colab\n",
        "This is from the Quick Python Book from Manning Press [QPB4E](https://livebook.manning.com/book/the-quick-python-book-fourth-edition).\n",
        "\n",
        "The GitHub repository for the book is at [GitHub/qpb4e](https://github.com/nceder/qpb4e)"
      ],
      "metadata": {
        "id": "Rv-y53MZBCVh"
      }
    },
    {
      "cell_type": "markdown",
      "source": [
        "# Chapter 2"
      ],
      "metadata": {
        "id": "otiZ-m9dCodj"
      }
    },
    {
      "cell_type": "code",
      "source": [
        "print(\"hello world!\")"
      ],
      "metadata": {
        "colab": {
          "base_uri": "https://localhost:8080/"
        },
        "id": "NAnDum0BCpDC",
        "outputId": "03e220ec-a307-4a52-ed8c-c3652f9fe95f"
      },
      "execution_count": null,
      "outputs": [
        {
          "output_type": "stream",
          "name": "stdout",
          "text": [
            "hello world!\n"
          ]
        }
      ]
    },
    {
      "cell_type": "code",
      "source": [
        "# Setup files needed\n",
        "!wget https://raw.githubusercontent.com/nceder/qpb4e/main/code/Chapter%2003/shape.py  &> null  && echo Downloaded\n",
        "!wget https://raw.githubusercontent.com/nceder/qpb4e/main/code/Chapter%2003/wo.py &> null  && echo Downloaded\n",
        "\n",
        "!touch empty_file\n",
        "! echo \"This is myfile1.txt\" > myfile1.txt\n",
        "! echo \"This is myfile2.txt\" > myfile2.txt"
      ],
      "metadata": {
        "colab": {
          "base_uri": "https://localhost:8080/"
        },
        "id": "205CFSMFJszm",
        "outputId": "ca7be2a1-f606-444c-b50b-7b3088d7691d"
      },
      "execution_count": null,
      "outputs": [
        {
          "output_type": "stream",
          "name": "stdout",
          "text": [
            "Downloaded\n",
            "Downloaded\n"
          ]
        }
      ]
    },
    {
      "cell_type": "markdown",
      "source": [
        "# Chapter 3\n",
        "Quick Python overview"
      ],
      "metadata": {
        "id": "jhpZZMmP7-4k"
      }
    },
    {
      "cell_type": "markdown",
      "source": [
        "# 3.2.7 File objects"
      ],
      "metadata": {
        "id": "ezYl2Jnp8RPs"
      }
    },
    {
      "cell_type": "code",
      "source": [
        "#Open a file for writing\n",
        "f = open(\"myfile1.txt\", \"w\")\n",
        "f.write(\"First line in the new file\\n\")\n",
        "f.write(\"Now add a second line\\n\")\n",
        "f.close()\n",
        "\n",
        "#Now open file and read it\n",
        "f = open(\"myfile\", \"r\")\n",
        "for i in f.readlines():\n",
        "  print(i)\n",
        "f.close()\n",
        "\n",
        "#Directory and stuff\n",
        "import os\n",
        "dir = os.getcwd()\n",
        "print(dir)\n",
        "\n",
        "file = os.path.join(dir, \"myfile\")\n",
        "print(file)\n",
        "\n",
        "f = open(file, \"r\")\n",
        "print(f.readline())\n",
        "f.close()\n"
      ],
      "metadata": {
        "colab": {
          "base_uri": "https://localhost:8080/"
        },
        "id": "N63bjMqI_I2C",
        "outputId": "27cfb841-aeff-46e7-a5b6-0339dbffe42e"
      },
      "execution_count": null,
      "outputs": [
        {
          "output_type": "stream",
          "name": "stdout",
          "text": [
            "First line in the new file\n",
            "\n",
            "Now add a second line\n",
            "\n",
            "/content\n",
            "/content/myfile\n",
            "First line in the new file\n",
            "\n"
          ]
        }
      ]
    },
    {
      "cell_type": "markdown",
      "source": [
        "# 3.4 Control Structures"
      ],
      "metadata": {
        "id": "8qrUJMksBWao"
      }
    },
    {
      "cell_type": "code",
      "source": [
        "# if-elif-else\n",
        "x = 5\n",
        "if x < 5:\n",
        "  y = -1\n",
        "  z = 5\n",
        "elif x > 5:\n",
        "  y = 1\n",
        "  z = 11\n",
        "else:\n",
        "  y = 0\n",
        "  z = 10\n",
        "print(x, y, z)"
      ],
      "metadata": {
        "colab": {
          "base_uri": "https://localhost:8080/"
        },
        "id": "zYXHCxyuBfnA",
        "outputId": "6c945978-3a26-4c4e-ba42-f468bb2f940f"
      },
      "execution_count": null,
      "outputs": [
        {
          "output_type": "stream",
          "name": "stdout",
          "text": [
            "5 0 10\n"
          ]
        }
      ]
    },
    {
      "cell_type": "markdown",
      "source": [
        "The 'match' statement in Python is similar to the switch statement in Java"
      ],
      "metadata": {
        "id": "P03KdTxXCT68"
      }
    },
    {
      "cell_type": "code",
      "source": [
        "#Match statement\n",
        "point = (5, 7)\n",
        "\n",
        "match point:\n",
        "  case(0,0):\n",
        "    print('origin')\n",
        "  case(0,y):\n",
        "    print(f\"Y={y}\")\n",
        "  case(x,0):\n",
        "    print(f\"X={x}\")\n",
        "  case(x,y):\n",
        "    print(f\"X={x}, Y={y}\")\n",
        "  case _:\n",
        "    raise ValueError(\"Not a point\")\n"
      ],
      "metadata": {
        "colab": {
          "base_uri": "https://localhost:8080/"
        },
        "id": "X6JUczYXCDLO",
        "outputId": "1e13134b-1145-4255-f96a-f16012015dec"
      },
      "execution_count": null,
      "outputs": [
        {
          "output_type": "stream",
          "name": "stdout",
          "text": [
            "X=5, Y=7\n"
          ]
        }
      ]
    },
    {
      "cell_type": "code",
      "source": [
        "#while loop\n",
        "u, v, x, y = 0, 0, 100, 30\n",
        "\n",
        "while x > y:\n",
        "  u = u + y\n",
        "  x = x - y\n",
        "  if x < y + 2:\n",
        "    v = v + x\n",
        "    x = 0\n",
        "  else:\n",
        "    v = v + y + 2\n",
        "    x = x - y - 2\n",
        "  print(f\"{u=} {v=}\")\n",
        "print(u, v)"
      ],
      "metadata": {
        "colab": {
          "base_uri": "https://localhost:8080/"
        },
        "id": "impdQ32ND4vk",
        "outputId": "afd26fe9-2470-4d7b-c5a4-bf53e160045d"
      },
      "execution_count": null,
      "outputs": [
        {
          "output_type": "stream",
          "name": "stdout",
          "text": [
            "u=30 v=32\n",
            "u=60 v=40\n",
            "60 40\n"
          ]
        }
      ]
    },
    {
      "cell_type": "code",
      "source": [
        "#for loop\n",
        "item_list = [3, \"string\", 23, 14.0, \"string2\", 49, 64, 70]\n",
        "for x in item_list:\n",
        "  if not isinstance(x, int):\n",
        "    continue\n",
        "  if not x % 7:\n",
        "    print(f\"found an integer divisible by seven: {x}\")\n",
        "    break"
      ],
      "metadata": {
        "colab": {
          "base_uri": "https://localhost:8080/"
        },
        "id": "5oW9wZi_Escd",
        "outputId": "e76c6217-e9cd-4773-bd8c-5ea5579166c8"
      },
      "execution_count": null,
      "outputs": [
        {
          "output_type": "stream",
          "name": "stdout",
          "text": [
            "found an integer divisible by seven: 49\n"
          ]
        }
      ]
    },
    {
      "cell_type": "code",
      "source": [
        "#functions\n",
        "def func(x, y, z):\n",
        "  value = x +2*y + z**2\n",
        "  if value > 0:\n",
        "    return x + 2*y + z**2\n",
        "  else:\n",
        "    return 0\n",
        "\n",
        "u, v = 3, 4\n",
        "print(func(u, v, 2))\n",
        "\n",
        "# **args gathers any spare arguments into a dictionary\n",
        "def newfunc(x, y=1, z=1, **args):\n",
        "  print (x, y, z, args)\n",
        "\n",
        "newfunc(1, 2, m=5, n=9, z=3)"
      ],
      "metadata": {
        "colab": {
          "base_uri": "https://localhost:8080/"
        },
        "id": "N7Sc4vlnHdWF",
        "outputId": "a9e10809-128a-49ed-ec33-e52ca40a519b"
      },
      "execution_count": null,
      "outputs": [
        {
          "output_type": "stream",
          "name": "stdout",
          "text": [
            "15\n",
            "1 2 3 {'m': 5, 'n': 9}\n"
          ]
        }
      ]
    },
    {
      "cell_type": "code",
      "source": [
        "#Exceptions (try-except-else-finally)\n",
        "class EmptyFileError(Exception):\n",
        "  pass\n",
        "\n",
        "file_names = [\"myfile1.txt\", \"non_existant\", \"empty_file\", \"myfile2.txt\"]\n",
        "for file_name in file_names:\n",
        "  try:\n",
        "    file = open(file_name, 'r')\n",
        "    line = file.readline()\n",
        "    if line == \"\":\n",
        "      file.close()\n",
        "      raise EmptyFileError(f\"{file_name}: is empty\")\n",
        "  except IOError as error:\n",
        "    print(f\"{file_name}: could not be opened: {error.strerror}\")\n",
        "  except EmptyFileError as error:\n",
        "    print(error)\n",
        "  else:\n",
        "    print(f\"{file_name}: {line}\")\n",
        "  finally:\n",
        "    print(\"Done processing\", file_name)"
      ],
      "metadata": {
        "colab": {
          "base_uri": "https://localhost:8080/"
        },
        "id": "BqfVHyqVJNUy",
        "outputId": "c8ee3e5f-34a9-4afe-aa38-4df89a0d4c91"
      },
      "execution_count": null,
      "outputs": [
        {
          "output_type": "stream",
          "name": "stdout",
          "text": [
            "myfile1.txt: This is myfile1.txt\n",
            "\n",
            "Done processing myfile1.txt\n",
            "non_existant: could not be opened: No such file or directory\n",
            "Done processing non_existant\n",
            "empty_file: is empty\n",
            "Done processing empty_file\n",
            "myfile2.txt: This is myfile2.txt\n",
            "\n",
            "Done processing myfile2.txt\n"
          ]
        }
      ]
    },
    {
      "cell_type": "code",
      "source": [
        "# With keyword\n",
        "file = \"myfile1.txt\"\n",
        "with open(file, 'r') as f:\n",
        "  for line in f:\n",
        "    print(line)"
      ],
      "metadata": {
        "colab": {
          "base_uri": "https://localhost:8080/"
        },
        "id": "ZWbHILb5Lmbn",
        "outputId": "45b55c6a-a0e0-4b0e-92e8-b34d4098688b"
      },
      "execution_count": null,
      "outputs": [
        {
          "output_type": "stream",
          "name": "stdout",
          "text": [
            "This is myfile1.txt\n",
            "\n"
          ]
        }
      ]
    },
    {
      "cell_type": "markdown",
      "source": [
        "# 3.5 Modules"
      ],
      "metadata": {
        "id": "G26SPR4_MJbj"
      }
    },
    {
      "cell_type": "code",
      "source": [
        "#Module example\n",
        "\"\"\"wo module. Contains function: words_occur()\"\"\"\n",
        "def words_occur():\n",
        "  \"\"\"words_occur() - count occurances of words in a file.\"\"\"\n",
        "  #prompt for file\n",
        "  file_name = input(\"Enter the name of a file to use\")\n",
        "  file = open(file_name, 'r')\n",
        "  word_list = file.read().split()\n",
        "  file.close()\n",
        "  occurs_dict = {}\n",
        "  for word in word_list:\n",
        "    occurs_dict[word] = occurs_dict.get(word, 0) + 1\n",
        "  print(f\"File {file_name} has {len(word_list)} words ({len(occurs_dict)} are unique)\")\n",
        "  print(occurs_dict)\n",
        "if __name__ == '__main__':\n",
        "  words_occur()\n"
      ],
      "metadata": {
        "colab": {
          "base_uri": "https://localhost:8080/"
        },
        "id": "cpFm8CUKMMMe",
        "outputId": "f4dcb690-a3d5-436c-a000-62be33948642"
      },
      "execution_count": null,
      "outputs": [
        {
          "output_type": "stream",
          "name": "stdout",
          "text": [
            "Enter the name of a file to usemyfile1.txt\n",
            "File myfile1.txt has 11 words (10 are unique)\n",
            "{'First': 1, 'line': 2, 'in': 1, 'the': 1, 'new': 1, 'file': 1, 'Now': 1, 'add': 1, 'a': 1, 'second': 1}\n"
          ]
        }
      ]
    },
    {
      "cell_type": "markdown",
      "source": [
        "# Chapter 4"
      ],
      "metadata": {
        "id": "14ON5VsyfrZW"
      }
    },
    {
      "cell_type": "markdown",
      "source": [
        "\n",
        "\n",
        "*   Indenting & block structure\n",
        "*   Differentiating comments\n",
        "*   Assigning variables\n",
        "*   Optional type hints\n",
        "*   Evaluating expressions\n",
        "*   Using common data types\n",
        "*   Getting user input\n",
        "*   Using correct Phythonic style\n",
        "\n"
      ],
      "metadata": {
        "id": "A2k1ZP4FfvV9"
      }
    },
    {
      "cell_type": "code",
      "source": [
        "n = 4\n",
        "r = 1\n",
        "while n > 0:\n",
        "    r = r * n\n",
        "    n = n - 1\n",
        "\n",
        "print(f\"{r}\")"
      ],
      "metadata": {
        "colab": {
          "base_uri": "https://localhost:8080/"
        },
        "id": "R9f7ichBGa-X",
        "outputId": "ae836a31-a44c-4a6f-f2c7-9231ec30356c"
      },
      "execution_count": 12,
      "outputs": [
        {
          "output_type": "stream",
          "name": "stdout",
          "text": [
            "24\n"
          ]
        }
      ]
    },
    {
      "cell_type": "code",
      "source": [
        "x, y = 0x12E, 0b1111\n",
        "z = (x + y)//2\n",
        "a = (x+y)%2\n",
        "print(abs(z), a)\n",
        "print(divmod(x, y))\n",
        "print(round(x/y))"
      ],
      "metadata": {
        "colab": {
          "base_uri": "https://localhost:8080/"
        },
        "id": "iFnA-1CeVPXL",
        "outputId": "6bb97118-4dde-4a8b-951e-033e7748871c"
      },
      "execution_count": 33,
      "outputs": [
        {
          "output_type": "stream",
          "name": "stdout",
          "text": [
            "158 1\n",
            "(20, 2)\n",
            "20\n"
          ]
        }
      ]
    },
    {
      "cell_type": "code",
      "source": [
        "from cmath import *\n",
        "sqrt((1+2j) * (3+4j))\n",
        "name = input(\"Name? \")\n",
        "print(name)"
      ],
      "metadata": {
        "colab": {
          "base_uri": "https://localhost:8080/"
        },
        "id": "RlcjYhTiYDKy",
        "outputId": "35b8762a-01b8-4d70-ed48-d93d23ed3d68"
      },
      "execution_count": 47,
      "outputs": [
        {
          "output_type": "stream",
          "name": "stdout",
          "text": [
            "Name? Catnip\n",
            "Catnip\n"
          ]
        }
      ]
    },
    {
      "cell_type": "markdown",
      "source": [
        "# Chapter 5\n",
        "Lists, tuples, and sets.\n",
        "\n",
        "A list in python is similar to an array in C or Java\n",
        "\n",
        "\n",
        "```\n",
        "x = [1, 2, 3]\n",
        "```\n",
        "\n"
      ],
      "metadata": {
        "id": "Pgazc6mQamEL"
      }
    },
    {
      "cell_type": "code",
      "source": [
        "x = [0]\n",
        "y = []\n",
        "z = [[1, 3, [4, 5],6],7]\n",
        "print(len(x), len(y), len(z))\n",
        "print(len(z[0]))\n",
        "print(len(z[0][2]))"
      ],
      "metadata": {
        "colab": {
          "base_uri": "https://localhost:8080/"
        },
        "id": "vm4bCttmare_",
        "outputId": "a0018662-cb36-4650-c765-5f3ad877cd30"
      },
      "execution_count": 3,
      "outputs": [
        {
          "output_type": "stream",
          "name": "stdout",
          "text": [
            "1 0 2\n",
            "4\n",
            "2\n"
          ]
        }
      ]
    },
    {
      "cell_type": "markdown",
      "source": [
        "positions are zero indexed, but you can also start at the 'end' of the list using -1.\n",
        "\n",
        "You can also extract with slices\n",
        "\n",
        "```\n",
        "x[1:-1] #second until up to last element (not including last)\n",
        "x[0:3] #first three elements -> goes upto but not including the second index\n",
        "x[:3] #begining up to (but not including) fourth element\n",
        "x[3:] #begining from fourth element to the end (includes last element)\n",
        "```\n",
        "\n"
      ],
      "metadata": {
        "id": "HtOHDCBrCj-D"
      }
    },
    {
      "cell_type": "code",
      "source": [
        "x = [0, 1, 2, 3, 4, 5, 6, 7, 8, 9]\n",
        "print(x[0]) #0\n",
        "print(x[-1]) #9\n",
        "print(x[1:-1])\n",
        "print(x[1:4])\n",
        "print(x[:3])\n",
        "print(x[3:])"
      ],
      "metadata": {
        "colab": {
          "base_uri": "https://localhost:8080/"
        },
        "id": "t93HymgACs4P",
        "outputId": "6f88a873-da3e-40fa-de9b-6fb216102179"
      },
      "execution_count": 7,
      "outputs": [
        {
          "output_type": "stream",
          "name": "stdout",
          "text": [
            "0\n",
            "9\n",
            "[1, 2, 3, 4, 5, 6, 7, 8]\n",
            "[1, 2, 3]\n",
            "[0, 1, 2]\n",
            "[3, 4, 5, 6, 7, 8, 9]\n"
          ]
        }
      ]
    },
    {
      "cell_type": "code",
      "source": [
        "#modifying\n",
        "x = [0, 1, 2, 3]\n",
        "x[2] = 'two'\n",
        "print(x)"
      ],
      "metadata": {
        "colab": {
          "base_uri": "https://localhost:8080/"
        },
        "id": "-wRZEy_eEsBQ",
        "outputId": "c05f55cd-8bcf-4f85-f22f-45064111d52e"
      },
      "execution_count": 10,
      "outputs": [
        {
          "output_type": "stream",
          "name": "stdout",
          "text": [
            "[0, 1, 'two', 3]\n"
          ]
        }
      ]
    },
    {
      "cell_type": "markdown",
      "source": [
        "You can also modify lists using slices using similar : notation"
      ],
      "metadata": {
        "id": "7C2BYTL1FWjd"
      }
    },
    {
      "cell_type": "code",
      "source": [
        "x = [0, 1, 2, 3]\n",
        "x[len(x):] = [4, 5, 6]\n",
        "print(x)\n",
        "x[:0] = [-2, -1] #put at beginning\n",
        "print(x)"
      ],
      "metadata": {
        "colab": {
          "base_uri": "https://localhost:8080/"
        },
        "id": "Jjep4JN_FeNM",
        "outputId": "8ad00e86-2855-40c6-e213-3b59fd7f6e28"
      },
      "execution_count": 13,
      "outputs": [
        {
          "output_type": "stream",
          "name": "stdout",
          "text": [
            "[0, 1, 2, 3, 4, 5, 6]\n",
            "[-2, -1, 0, 1, 2, 3, 4, 5, 6]\n"
          ]
        }
      ]
    },
    {
      "cell_type": "markdown",
      "source": [
        "append and extend are two ways to add to lists"
      ],
      "metadata": {
        "id": "Pdt3qk12GLnX"
      }
    },
    {
      "cell_type": "code",
      "source": [
        "x = [0, 1, 2]\n",
        "y = [3, 4, 5]\n",
        "x.append(y) #add entire list y as a single element to x\n",
        "print(x)\n",
        "x = [0, 1, 2]\n",
        "y = [3, 4, 5]\n",
        "x.extend(y) #extends x with the list from y\n",
        "print(x)\n",
        "x.insert(0, 'start') #insert an element prior to the given index\n",
        "print(x)\n",
        "del x[0] #remove element from given index\n",
        "print(x)\n",
        "x.remove(3) #remove first element that matches the literal input (3), not by index\n",
        "print(x)\n",
        "x.reverse() #reverse list in place\n",
        "print(x)"
      ],
      "metadata": {
        "colab": {
          "base_uri": "https://localhost:8080/"
        },
        "id": "SHVH633gGOqy",
        "outputId": "0fea6e88-db21-4ce6-f3bd-5b287b2d2327"
      },
      "execution_count": 23,
      "outputs": [
        {
          "output_type": "stream",
          "name": "stdout",
          "text": [
            "[0, 1, 2, [3, 4, 5]]\n",
            "[0, 1, 2, 3, 4, 5]\n",
            "['start', 0, 1, 2, 3, 4, 5]\n",
            "[0, 1, 2, 3, 4, 5]\n",
            "[0, 1, 2, 4, 5]\n",
            "[5, 4, 2, 1, 0]\n"
          ]
        }
      ]
    },
    {
      "cell_type": "code",
      "source": [
        "# move last 3 elements to front\n",
        "x = [3, 4, 5, 0, 1, 2]\n",
        "print(x)\n",
        "x = x[3:] + x[:3]\n",
        "print(x)"
      ],
      "metadata": {
        "colab": {
          "base_uri": "https://localhost:8080/"
        },
        "id": "9OH8RkLrIjXs",
        "outputId": "19ec1eb2-824f-4a3d-ea75-16e2bd15e73d"
      },
      "execution_count": 42,
      "outputs": [
        {
          "output_type": "stream",
          "name": "stdout",
          "text": [
            "[3, 4, 5, 0, 1, 2]\n",
            "[0, 1, 2, 3, 4, 5]\n"
          ]
        }
      ]
    }
  ]
}